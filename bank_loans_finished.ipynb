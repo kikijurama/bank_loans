{
 "cells": [
  {
   "cell_type": "markdown",
   "id": "c81daeeb",
   "metadata": {
    "deletable": false,
    "id": "c81daeeb"
   },
   "source": [
    "# Study of the reliability of loaners"
   ]
  },
  {
   "cell_type": "markdown",
   "id": "744d7639",
   "metadata": {
    "deletable": false,
    "id": "744d7639"
   },
   "source": [
    "## Opening the dataset"
   ]
  },
  {
   "cell_type": "code",
   "execution_count": 33,
   "id": "7bcf75c9",
   "metadata": {
    "deletable": false,
    "id": "7bcf75c9"
   },
   "outputs": [],
   "source": [
    "import pandas as pd"
   ]
  },
  {
   "cell_type": "code",
   "execution_count": 34,
   "id": "2a7cab99",
   "metadata": {
    "deletable": false,
    "id": "2a7cab99",
    "outputId": "1a8f3ef2-d323-4ec2-ddf7-89670b5944c4"
   },
   "outputs": [
    {
     "data": {
      "text/html": [
       "<div>\n",
       "<style scoped>\n",
       "    .dataframe tbody tr th:only-of-type {\n",
       "        vertical-align: middle;\n",
       "    }\n",
       "\n",
       "    .dataframe tbody tr th {\n",
       "        vertical-align: top;\n",
       "    }\n",
       "\n",
       "    .dataframe thead th {\n",
       "        text-align: right;\n",
       "    }\n",
       "</style>\n",
       "<table border=\"1\" class=\"dataframe\">\n",
       "  <thead>\n",
       "    <tr style=\"text-align: right;\">\n",
       "      <th></th>\n",
       "      <th>children</th>\n",
       "      <th>days_employed</th>\n",
       "      <th>dob_years</th>\n",
       "      <th>education</th>\n",
       "      <th>education_id</th>\n",
       "      <th>family_status</th>\n",
       "      <th>family_status_id</th>\n",
       "      <th>gender</th>\n",
       "      <th>income_type</th>\n",
       "      <th>debt</th>\n",
       "      <th>total_income</th>\n",
       "      <th>purpose</th>\n",
       "    </tr>\n",
       "  </thead>\n",
       "  <tbody>\n",
       "    <tr>\n",
       "      <th>0</th>\n",
       "      <td>1</td>\n",
       "      <td>-8437.673028</td>\n",
       "      <td>42</td>\n",
       "      <td>высшее</td>\n",
       "      <td>0</td>\n",
       "      <td>женат / замужем</td>\n",
       "      <td>0</td>\n",
       "      <td>F</td>\n",
       "      <td>сотрудник</td>\n",
       "      <td>0</td>\n",
       "      <td>253875.639453</td>\n",
       "      <td>покупка жилья</td>\n",
       "    </tr>\n",
       "    <tr>\n",
       "      <th>1</th>\n",
       "      <td>1</td>\n",
       "      <td>-4024.803754</td>\n",
       "      <td>36</td>\n",
       "      <td>среднее</td>\n",
       "      <td>1</td>\n",
       "      <td>женат / замужем</td>\n",
       "      <td>0</td>\n",
       "      <td>F</td>\n",
       "      <td>сотрудник</td>\n",
       "      <td>0</td>\n",
       "      <td>112080.014102</td>\n",
       "      <td>приобретение автомобиля</td>\n",
       "    </tr>\n",
       "    <tr>\n",
       "      <th>2</th>\n",
       "      <td>0</td>\n",
       "      <td>-5623.422610</td>\n",
       "      <td>33</td>\n",
       "      <td>Среднее</td>\n",
       "      <td>1</td>\n",
       "      <td>женат / замужем</td>\n",
       "      <td>0</td>\n",
       "      <td>M</td>\n",
       "      <td>сотрудник</td>\n",
       "      <td>0</td>\n",
       "      <td>145885.952297</td>\n",
       "      <td>покупка жилья</td>\n",
       "    </tr>\n",
       "    <tr>\n",
       "      <th>3</th>\n",
       "      <td>3</td>\n",
       "      <td>-4124.747207</td>\n",
       "      <td>32</td>\n",
       "      <td>среднее</td>\n",
       "      <td>1</td>\n",
       "      <td>женат / замужем</td>\n",
       "      <td>0</td>\n",
       "      <td>M</td>\n",
       "      <td>сотрудник</td>\n",
       "      <td>0</td>\n",
       "      <td>267628.550329</td>\n",
       "      <td>дополнительное образование</td>\n",
       "    </tr>\n",
       "    <tr>\n",
       "      <th>4</th>\n",
       "      <td>0</td>\n",
       "      <td>340266.072047</td>\n",
       "      <td>53</td>\n",
       "      <td>среднее</td>\n",
       "      <td>1</td>\n",
       "      <td>гражданский брак</td>\n",
       "      <td>1</td>\n",
       "      <td>F</td>\n",
       "      <td>пенсионер</td>\n",
       "      <td>0</td>\n",
       "      <td>158616.077870</td>\n",
       "      <td>сыграть свадьбу</td>\n",
       "    </tr>\n",
       "  </tbody>\n",
       "</table>\n",
       "</div>"
      ],
      "text/plain": [
       "   children  days_employed  dob_years education  education_id  \\\n",
       "0         1   -8437.673028         42    высшее             0   \n",
       "1         1   -4024.803754         36   среднее             1   \n",
       "2         0   -5623.422610         33   Среднее             1   \n",
       "3         3   -4124.747207         32   среднее             1   \n",
       "4         0  340266.072047         53   среднее             1   \n",
       "\n",
       "      family_status  family_status_id gender income_type  debt   total_income  \\\n",
       "0   женат / замужем                 0      F   сотрудник     0  253875.639453   \n",
       "1   женат / замужем                 0      F   сотрудник     0  112080.014102   \n",
       "2   женат / замужем                 0      M   сотрудник     0  145885.952297   \n",
       "3   женат / замужем                 0      M   сотрудник     0  267628.550329   \n",
       "4  гражданский брак                 1      F   пенсионер     0  158616.077870   \n",
       "\n",
       "                      purpose  \n",
       "0               покупка жилья  \n",
       "1     приобретение автомобиля  \n",
       "2               покупка жилья  \n",
       "3  дополнительное образование  \n",
       "4             сыграть свадьбу  "
      ]
     },
     "execution_count": 34,
     "metadata": {},
     "output_type": "execute_result"
    }
   ],
   "source": [
    "data = pd.read_csv('/Users/asyl/Desktop/DS/sources/credit.csv')\n",
    "data.head()"
   ]
  },
  {
   "cell_type": "code",
   "execution_count": 35,
   "id": "2b757bca",
   "metadata": {
    "deletable": false,
    "id": "2b757bca",
    "outputId": "15376089-8dad-46c9-b520-c05248d43158"
   },
   "outputs": [
    {
     "name": "stdout",
     "output_type": "stream",
     "text": [
      "<class 'pandas.core.frame.DataFrame'>\n",
      "RangeIndex: 21525 entries, 0 to 21524\n",
      "Data columns (total 12 columns):\n",
      " #   Column            Non-Null Count  Dtype  \n",
      "---  ------            --------------  -----  \n",
      " 0   children          21525 non-null  int64  \n",
      " 1   days_employed     19351 non-null  float64\n",
      " 2   dob_years         21525 non-null  int64  \n",
      " 3   education         21525 non-null  object \n",
      " 4   education_id      21525 non-null  int64  \n",
      " 5   family_status     21525 non-null  object \n",
      " 6   family_status_id  21525 non-null  int64  \n",
      " 7   gender            21525 non-null  object \n",
      " 8   income_type       21525 non-null  object \n",
      " 9   debt              21525 non-null  int64  \n",
      " 10  total_income      19351 non-null  float64\n",
      " 11  purpose           21525 non-null  object \n",
      "dtypes: float64(2), int64(5), object(5)\n",
      "memory usage: 2.0+ MB\n"
     ]
    }
   ],
   "source": [
    "data.info()"
   ]
  },
  {
   "cell_type": "markdown",
   "id": "333ec665",
   "metadata": {
    "deletable": false,
    "id": "333ec665"
   },
   "source": [
    "## Data preprocessing"
   ]
  },
  {
   "cell_type": "markdown",
   "id": "02d92d53",
   "metadata": {
    "deletable": false,
    "id": "02d92d53"
   },
   "source": [
    "### Deleting missing values"
   ]
  },
  {
   "cell_type": "code",
   "execution_count": 36,
   "id": "7f9b2309",
   "metadata": {
    "deletable": false,
    "id": "7f9b2309",
    "outputId": "81f4d817-781c-465c-ed15-91ce4446810d"
   },
   "outputs": [
    {
     "data": {
      "text/plain": [
       "children               0\n",
       "days_employed       2174\n",
       "dob_years              0\n",
       "education              0\n",
       "education_id           0\n",
       "family_status          0\n",
       "family_status_id       0\n",
       "gender                 0\n",
       "income_type            0\n",
       "debt                   0\n",
       "total_income        2174\n",
       "purpose                0\n",
       "dtype: int64"
      ]
     },
     "execution_count": 36,
     "metadata": {},
     "output_type": "execute_result"
    }
   ],
   "source": [
    "data.isna().sum()"
   ]
  },
  {
   "cell_type": "code",
   "execution_count": 37,
   "id": "42006a93",
   "metadata": {
    "deletable": false,
    "id": "42006a93"
   },
   "outputs": [],
   "source": [
    "# missing values in income type\n",
    "for t in data['income_type'].unique():\n",
    "    data.loc[(data['income_type'] == t) & (data['total_income'].isna()), 'total_income'] = \\\n",
    "    data.loc[(data['income_type'] == t), 'total_income'].median()"
   ]
  },
  {
   "cell_type": "markdown",
   "id": "89da5ece",
   "metadata": {
    "deletable": false,
    "id": "89da5ece"
   },
   "source": [
    "### Processing anomalies"
   ]
  },
  {
   "cell_type": "code",
   "execution_count": 38,
   "id": "f6f055bf",
   "metadata": {
    "deletable": false,
    "id": "f6f055bf"
   },
   "outputs": [],
   "source": [
    "data['days_employed'] = data['days_employed'].abs()"
   ]
  },
  {
   "cell_type": "code",
   "execution_count": 39,
   "id": "85a5faf6",
   "metadata": {
    "deletable": false,
    "id": "85a5faf6",
    "outputId": "801ef80e-522b-4668-f34e-565af7432bcf"
   },
   "outputs": [
    {
     "data": {
      "text/plain": [
       "income_type\n",
       "безработный        366413.652744\n",
       "в декрете            3296.759962\n",
       "госслужащий          2689.368353\n",
       "компаньон            1547.382223\n",
       "пенсионер          365213.306266\n",
       "предприниматель       520.848083\n",
       "сотрудник            1574.202821\n",
       "студент               578.751554\n",
       "Name: days_employed, dtype: float64"
      ]
     },
     "execution_count": 39,
     "metadata": {},
     "output_type": "execute_result"
    }
   ],
   "source": [
    "data.groupby('income_type')['days_employed'].agg('median')"
   ]
  },
  {
   "cell_type": "markdown",
   "id": "38d1a030",
   "metadata": {
    "deletable": false,
    "id": "38d1a030"
   },
   "source": [
    "Two types (unemployed and pensioners) get abnormally large values. Correcting such values is difficult, so we leave them as they are."
   ]
  },
  {
   "cell_type": "code",
   "execution_count": 40,
   "id": "ef5056eb",
   "metadata": {
    "deletable": false,
    "id": "ef5056eb",
    "outputId": "6975b15c-7f95-4697-d16d-a0c79b657b03"
   },
   "outputs": [
    {
     "data": {
      "text/plain": [
       "array([ 1,  0,  3,  2, -1,  4, 20,  5])"
      ]
     },
     "execution_count": 40,
     "metadata": {},
     "output_type": "execute_result"
    }
   ],
   "source": [
    "data['children'].unique()"
   ]
  },
  {
   "cell_type": "code",
   "execution_count": 41,
   "id": "3ff9801d",
   "metadata": {
    "deletable": false,
    "id": "3ff9801d"
   },
   "outputs": [
    {
     "data": {
      "text/plain": [
       "array([1, 0, 3, 2, 4, 5])"
      ]
     },
     "execution_count": 41,
     "metadata": {},
     "output_type": "execute_result"
    }
   ],
   "source": [
    "data = data[(data['children'] != -1) & (data['children'] != 20)]\n",
    "data['children'].unique()"
   ]
  },
  {
   "cell_type": "code",
   "execution_count": 42,
   "id": "af6b1a7e",
   "metadata": {
    "deletable": false,
    "id": "af6b1a7e"
   },
   "outputs": [],
   "source": [
    "for t in data['income_type'].unique():\n",
    "    data.loc[(data['income_type'] == t) & (data['days_employed'].isna()), 'days_employed'] = \\\n",
    "    data.loc[(data['income_type'] == t), 'days_employed'].median()"
   ]
  },
  {
   "cell_type": "code",
   "execution_count": 43,
   "id": "55f78bc2",
   "metadata": {
    "deletable": false,
    "id": "55f78bc2",
    "outputId": "8da1e4e1-358e-4e87-98c9-f261bce0a7b2"
   },
   "outputs": [
    {
     "data": {
      "text/plain": [
       "children            0\n",
       "days_employed       0\n",
       "dob_years           0\n",
       "education           0\n",
       "education_id        0\n",
       "family_status       0\n",
       "family_status_id    0\n",
       "gender              0\n",
       "income_type         0\n",
       "debt                0\n",
       "total_income        0\n",
       "purpose             0\n",
       "dtype: int64"
      ]
     },
     "execution_count": 43,
     "metadata": {},
     "output_type": "execute_result"
    }
   ],
   "source": [
    "data.isna().sum()"
   ]
  },
  {
   "cell_type": "markdown",
   "id": "ddc81e43",
   "metadata": {
    "deletable": false,
    "id": "ddc81e43"
   },
   "source": [
    "### Changing data types"
   ]
  },
  {
   "cell_type": "code",
   "execution_count": 44,
   "id": "920b65ad",
   "metadata": {
    "deletable": false,
    "id": "920b65ad"
   },
   "outputs": [],
   "source": [
    "data['total_income'] = data['total_income'].astype(int)"
   ]
  },
  {
   "cell_type": "markdown",
   "id": "80c420ba",
   "metadata": {
    "deletable": false,
    "id": "80c420ba"
   },
   "source": [
    "### Duplicates"
   ]
  },
  {
   "cell_type": "code",
   "execution_count": 45,
   "id": "3ee445e4",
   "metadata": {
    "deletable": false,
    "id": "3ee445e4",
    "outputId": "9684deba-1934-42d1-99e1-cda61740f822"
   },
   "outputs": [
    {
     "data": {
      "text/plain": [
       "54"
      ]
     },
     "execution_count": 45,
     "metadata": {},
     "output_type": "execute_result"
    }
   ],
   "source": [
    "data.duplicated().sum()"
   ]
  },
  {
   "cell_type": "code",
   "execution_count": 46,
   "id": "8575fe05",
   "metadata": {
    "deletable": false,
    "id": "8575fe05"
   },
   "outputs": [],
   "source": [
    "data = data.drop_duplicates()"
   ]
  },
  {
   "cell_type": "code",
   "execution_count": 47,
   "id": "a9f8e2bf",
   "metadata": {
    "deletable": false,
    "id": "a9f8e2bf"
   },
   "outputs": [],
   "source": [
    "data['education'] = data['education'].str.lower()"
   ]
  },
  {
   "cell_type": "markdown",
   "id": "9904cf55",
   "metadata": {
    "deletable": false,
    "id": "9904cf55"
   },
   "source": [
    "### Data categorization"
   ]
  },
  {
   "cell_type": "code",
   "execution_count": 48,
   "id": "e1771346",
   "metadata": {
    "deletable": false,
    "id": "e1771346"
   },
   "outputs": [],
   "source": [
    "def categorize_income(income):\n",
    "    try:\n",
    "        if 0 <= income <= 30000:\n",
    "            return 'E'\n",
    "        elif 30001 <= income <= 50000:\n",
    "            return 'D'\n",
    "        elif 50001 <= income <= 200000:\n",
    "            return 'C'\n",
    "        elif 200001 <= income <= 1000000:\n",
    "            return 'B'\n",
    "        elif income >= 1000001:\n",
    "            return 'A'\n",
    "    except:\n",
    "        pass"
   ]
  },
  {
   "cell_type": "code",
   "execution_count": 49,
   "id": "d5f3586d",
   "metadata": {
    "deletable": false,
    "id": "d5f3586d"
   },
   "outputs": [],
   "source": [
    "data['total_income_category'] = data['total_income'].apply(categorize_income)"
   ]
  },
  {
   "cell_type": "code",
   "execution_count": 50,
   "id": "f67ce9b3",
   "metadata": {
    "deletable": false,
    "id": "f67ce9b3",
    "outputId": "673c12d9-7d7e-4ae0-9812-c622c89dd244"
   },
   "outputs": [
    {
     "data": {
      "text/plain": [
       "array(['покупка жилья', 'приобретение автомобиля',\n",
       "       'дополнительное образование', 'сыграть свадьбу',\n",
       "       'операции с жильем', 'образование', 'на проведение свадьбы',\n",
       "       'покупка жилья для семьи', 'покупка недвижимости',\n",
       "       'покупка коммерческой недвижимости', 'покупка жилой недвижимости',\n",
       "       'строительство собственной недвижимости', 'недвижимость',\n",
       "       'строительство недвижимости', 'на покупку подержанного автомобиля',\n",
       "       'на покупку своего автомобиля',\n",
       "       'операции с коммерческой недвижимостью',\n",
       "       'строительство жилой недвижимости', 'жилье',\n",
       "       'операции со своей недвижимостью', 'автомобили',\n",
       "       'заняться образованием', 'сделка с подержанным автомобилем',\n",
       "       'получение образования', 'автомобиль', 'свадьба',\n",
       "       'получение дополнительного образования', 'покупка своего жилья',\n",
       "       'операции с недвижимостью', 'получение высшего образования',\n",
       "       'свой автомобиль', 'сделка с автомобилем',\n",
       "       'профильное образование', 'высшее образование',\n",
       "       'покупка жилья для сдачи', 'на покупку автомобиля', 'ремонт жилью',\n",
       "       'заняться высшим образованием'], dtype=object)"
      ]
     },
     "execution_count": 50,
     "metadata": {},
     "output_type": "execute_result"
    }
   ],
   "source": [
    "data['purpose'].unique()"
   ]
  },
  {
   "cell_type": "code",
   "execution_count": 51,
   "id": "e149fab4",
   "metadata": {
    "deletable": false,
    "id": "e149fab4"
   },
   "outputs": [],
   "source": [
    "def categorize_purpose(row):\n",
    "    try:\n",
    "        if 'автом' in row:\n",
    "            return 'операции с автомобилем'\n",
    "        elif 'жил' in row or 'недвиж' in row:\n",
    "            return 'операции с недвижимостью'\n",
    "        elif 'свад' in row:\n",
    "            return 'проведение свадьбы'\n",
    "        elif 'образов' in row:\n",
    "            return 'получение образования'\n",
    "    except:\n",
    "        return 'нет категории'"
   ]
  },
  {
   "cell_type": "code",
   "execution_count": 52,
   "id": "bf36e69b",
   "metadata": {
    "deletable": false,
    "id": "bf36e69b"
   },
   "outputs": [],
   "source": [
    "data['purpose_category'] = data['purpose'].apply(categorize_purpose)"
   ]
  },
  {
   "cell_type": "markdown",
   "id": "09b242bf",
   "metadata": {
    "deletable": false,
    "editable": false,
    "id": "09b242bf"
   },
   "source": [
    "## Research"
   ]
  },
  {
   "cell_type": "markdown",
   "id": "74fa3166",
   "metadata": {},
   "source": [
    "We will check the relationship between the number of children and the repayment of the loan on time by building a pivot table based on the values of the `children` and `debt` columns.\n",
    "\n",
    "First, let's define what values they store in themselves. The `children` column has already been processed before, and we know that the number of children varies from 0 to 5. And `debt` at first glance has only 2 values and probably indicates whether the client has a debt or not."
   ]
  },
  {
   "cell_type": "code",
   "execution_count": 53,
   "id": "24b4b1a7",
   "metadata": {
    "scrolled": true
   },
   "outputs": [
    {
     "name": "stdout",
     "output_type": "stream",
     "text": [
      "Number of clients by number of children:\n",
      "0    14107\n",
      "1     4809\n",
      "2     2052\n",
      "3      330\n",
      "4       41\n",
      "5        9\n",
      "Name: children, dtype: int64\n"
     ]
    }
   ],
   "source": [
    "# looking at cchildren column\n",
    "print('Number of clients by number of children:')\n",
    "print(data['children'].value_counts())"
   ]
  },
  {
   "cell_type": "markdown",
   "id": "07d91f40",
   "metadata": {},
   "source": [
    "Now let's look at the unique `debt` values. <a id='debt'></a>"
   ]
  },
  {
   "cell_type": "code",
   "execution_count": 54,
   "id": "525517ca",
   "metadata": {},
   "outputs": [
    {
     "data": {
      "text/plain": [
       "0    19616\n",
       "1     1732\n",
       "Name: debt, dtype: int64"
      ]
     },
     "execution_count": 54,
     "metadata": {},
     "output_type": "execute_result"
    }
   ],
   "source": [
    "# debt column values\n",
    "data['debt'].value_counts()"
   ]
  },
  {
   "cell_type": "markdown",
   "id": "49c12258",
   "metadata": {},
   "source": [
    "The guess was confirmed, the `debt` column has 2 unique values, where `0`, logically, means no delay.\n",
    "\n",
    "Knowing what values we are dealing with, it is possible to build a summary table of the ratio of the number of children to the presence of loan debt."
   ]
  },
  {
   "cell_type": "code",
   "execution_count": 55,
   "id": "cfc5f658",
   "metadata": {
    "scrolled": false
   },
   "outputs": [
    {
     "data": {
      "text/html": [
       "<div>\n",
       "<style scoped>\n",
       "    .dataframe tbody tr th:only-of-type {\n",
       "        vertical-align: middle;\n",
       "    }\n",
       "\n",
       "    .dataframe tbody tr th {\n",
       "        vertical-align: top;\n",
       "    }\n",
       "\n",
       "    .dataframe thead th {\n",
       "        text-align: right;\n",
       "    }\n",
       "</style>\n",
       "<table border=\"1\" class=\"dataframe\">\n",
       "  <thead>\n",
       "    <tr style=\"text-align: right;\">\n",
       "      <th></th>\n",
       "      <th>clients_count</th>\n",
       "      <th>clients_share</th>\n",
       "      <th>debt_mean</th>\n",
       "    </tr>\n",
       "    <tr>\n",
       "      <th>children</th>\n",
       "      <th></th>\n",
       "      <th></th>\n",
       "      <th></th>\n",
       "    </tr>\n",
       "  </thead>\n",
       "  <tbody>\n",
       "    <tr>\n",
       "      <th>0</th>\n",
       "      <td>14107</td>\n",
       "      <td>66.08%</td>\n",
       "      <td>7.54%</td>\n",
       "    </tr>\n",
       "    <tr>\n",
       "      <th>1</th>\n",
       "      <td>4809</td>\n",
       "      <td>22.53%</td>\n",
       "      <td>9.23%</td>\n",
       "    </tr>\n",
       "    <tr>\n",
       "      <th>2</th>\n",
       "      <td>2052</td>\n",
       "      <td>9.61%</td>\n",
       "      <td>9.45%</td>\n",
       "    </tr>\n",
       "    <tr>\n",
       "      <th>3</th>\n",
       "      <td>330</td>\n",
       "      <td>1.55%</td>\n",
       "      <td>8.18%</td>\n",
       "    </tr>\n",
       "    <tr>\n",
       "      <th>4</th>\n",
       "      <td>41</td>\n",
       "      <td>0.19%</td>\n",
       "      <td>9.76%</td>\n",
       "    </tr>\n",
       "    <tr>\n",
       "      <th>5</th>\n",
       "      <td>9</td>\n",
       "      <td>0.04%</td>\n",
       "      <td>0.00%</td>\n",
       "    </tr>\n",
       "  </tbody>\n",
       "</table>\n",
       "</div>"
      ],
      "text/plain": [
       "          clients_count  clients_share  debt_mean\n",
       "children                                         \n",
       "0                 14107         66.08%      7.54%\n",
       "1                  4809         22.53%      9.23%\n",
       "2                  2052          9.61%      9.45%\n",
       "3                   330          1.55%      8.18%\n",
       "4                    41          0.19%      9.76%\n",
       "5                     9          0.04%      0.00%"
      ]
     },
     "metadata": {},
     "output_type": "display_data"
    },
    {
     "name": "stdout",
     "output_type": "stream",
     "text": [
      "AxesSubplot(0.125,0.11;0.775x0.77)\n"
     ]
    },
    {
     "data": {
      "image/png": "[encoded data removed]",
      "text/plain": [
       "<Figure size 700x300 with 1 Axes>"
      ]
     },
     "metadata": {},
     "output_type": "display_data"
    }
   ],
   "source": [
    "# creating pivot_table\n",
    "children_pivot = data.pivot_table(index='children', values='debt', aggfunc={'mean', 'count'})\n",
    "children_pivot.insert(1, 'modal_share', children_pivot['count'] / children_pivot['count'].sum())\n",
    "children_pivot.columns = ['clients_count', 'clients_share', 'debt_mean']\n",
    "children_pivot['clients_count'] = children_pivot['clients_count'].astype(int)\n",
    "with pd.option_context('display.float_format', '{:.2%}'.format):\n",
    "    display(children_pivot)\n",
    "print(children_pivot['debt_mean'].plot.bar(figsize=(7, 3)))"
   ]
  },
  {
   "cell_type": "markdown",
   "id": "a5143f84",
   "metadata": {},
   "source": [
    "The diagram above shows a relatively even distribution of arrears among clients with different numbers of children. With an increase in the number of children in the family, a slight increase in the delinquency rate of the loan is visible (the total increase was `2.2%`), while the category of families with 3 children is slightly out of the general trend and shows a slight decrease in the delinquency rate. Judging only by this graph, we can say that families with many children more often do not meet the deadline for paying debts on loans, on the other hand, much fewer of these people initially take out loans. The category of people with 5 children has no delays, but they are only 9 people, such a sample is not representative."
   ]
  },
  {
   "cell_type": "markdown",
   "id": "3a6b99ec",
   "metadata": {
    "deletable": false,
    "id": "3a6b99ec"
   },
   "source": [
    "### **Conclusion: the relationship between the number of children and the repayment of the loan on time**\n",
    "\n",
    "The analysis performed showed a slight increase in the loan repayment arrears ratio with an increase in the number of children per family. Data for clients with 5 children is insufficient for analysis."
   ]
  },
  {
   "cell_type": "markdown",
   "id": "8993eca9",
   "metadata": {},
   "source": [
    "The principle of action is similar to the previous task - we study the presented data, then proceed to the analysis. [Column `debt`](#debt) we already know, take a look at marital status categories."
   ]
  },
  {
   "cell_type": "code",
   "execution_count": 56,
   "id": "dc3f7ee8",
   "metadata": {
    "id": "dc3f7ee8"
   },
   "outputs": [
    {
     "name": "stdout",
     "output_type": "stream",
     "text": [
      "family_status values:\n",
      "женат / замужем          12266\n",
      "гражданский брак          4146\n",
      "Не женат / не замужем     2796\n",
      "в разводе                 1189\n",
      "вдовец / вдова             951\n",
      "Name: family_status, dtype: int64\n",
      "\n",
      "family_status_id values:\n",
      "0    12266\n",
      "1     4146\n",
      "4     2796\n",
      "3     1189\n",
      "2      951\n",
      "Name: family_status_id, dtype: int64\n",
      "\n"
     ]
    }
   ],
   "source": [
    "print('family_status values:')\n",
    "print(data['family_status'].value_counts())\n",
    "print()\n",
    "print('family_status_id values:')\n",
    "print(data['family_status_id'].value_counts())\n",
    "print()"
   ]
  },
  {
   "cell_type": "markdown",
   "id": "f056cb44",
   "metadata": {},
   "source": [
    "In connection with the correspondence of the number of people in different categories of marital status and identifiers, suppose that each category corresponds to a different identifier. Let's build a summary table of the dependence of marital status on the violation of the deadlines for paying credit debts, at the same time we will check our assumption regarding identifiers."
   ]
  },
  {
   "cell_type": "code",
   "execution_count": 57,
   "id": "2835d9f5",
   "metadata": {},
   "outputs": [
    {
     "data": {
      "text/html": [
       "<div>\n",
       "<style scoped>\n",
       "    .dataframe tbody tr th:only-of-type {\n",
       "        vertical-align: middle;\n",
       "    }\n",
       "\n",
       "    .dataframe tbody tr th {\n",
       "        vertical-align: top;\n",
       "    }\n",
       "\n",
       "    .dataframe thead th {\n",
       "        text-align: right;\n",
       "    }\n",
       "</style>\n",
       "<table border=\"1\" class=\"dataframe\">\n",
       "  <thead>\n",
       "    <tr style=\"text-align: right;\">\n",
       "      <th></th>\n",
       "      <th></th>\n",
       "      <th>clients_count</th>\n",
       "      <th>clients_share</th>\n",
       "      <th>debt_mean</th>\n",
       "    </tr>\n",
       "    <tr>\n",
       "      <th>family_status</th>\n",
       "      <th>family_status_id</th>\n",
       "      <th></th>\n",
       "      <th></th>\n",
       "      <th></th>\n",
       "    </tr>\n",
       "  </thead>\n",
       "  <tbody>\n",
       "    <tr>\n",
       "      <th>Не женат / не замужем</th>\n",
       "      <th>4</th>\n",
       "      <td>2796</td>\n",
       "      <td>13.10%</td>\n",
       "      <td>9.76%</td>\n",
       "    </tr>\n",
       "    <tr>\n",
       "      <th>гражданский брак</th>\n",
       "      <th>1</th>\n",
       "      <td>4146</td>\n",
       "      <td>19.42%</td>\n",
       "      <td>9.29%</td>\n",
       "    </tr>\n",
       "    <tr>\n",
       "      <th>женат / замужем</th>\n",
       "      <th>0</th>\n",
       "      <td>12266</td>\n",
       "      <td>57.46%</td>\n",
       "      <td>7.56%</td>\n",
       "    </tr>\n",
       "    <tr>\n",
       "      <th>в разводе</th>\n",
       "      <th>3</th>\n",
       "      <td>1189</td>\n",
       "      <td>5.57%</td>\n",
       "      <td>7.06%</td>\n",
       "    </tr>\n",
       "    <tr>\n",
       "      <th>вдовец / вдова</th>\n",
       "      <th>2</th>\n",
       "      <td>951</td>\n",
       "      <td>4.45%</td>\n",
       "      <td>6.62%</td>\n",
       "    </tr>\n",
       "  </tbody>\n",
       "</table>\n",
       "</div>"
      ],
      "text/plain": [
       "                                        clients_count  clients_share  \\\n",
       "family_status         family_status_id                                 \n",
       "Не женат / не замужем 4                          2796         13.10%   \n",
       "гражданский брак      1                          4146         19.42%   \n",
       "женат / замужем       0                         12266         57.46%   \n",
       "в разводе             3                          1189          5.57%   \n",
       "вдовец / вдова        2                           951          4.45%   \n",
       "\n",
       "                                        debt_mean  \n",
       "family_status         family_status_id             \n",
       "Не женат / не замужем 4                     9.76%  \n",
       "гражданский брак      1                     9.29%  \n",
       "женат / замужем       0                     7.56%  \n",
       "в разводе             3                     7.06%  \n",
       "вдовец / вдова        2                     6.62%  "
      ]
     },
     "metadata": {},
     "output_type": "display_data"
    },
    {
     "name": "stdout",
     "output_type": "stream",
     "text": [
      "\n",
      "AxesSubplot(0.125,0.11;0.775x0.77)\n"
     ]
    },
    {
     "data": {
      "image/png": "[encoded data removed]",
      "text/plain": [
       "<Figure size 700x300 with 1 Axes>"
      ]
     },
     "metadata": {},
     "output_type": "display_data"
    }
   ],
   "source": [
    "# dependecy table between family_status and debt\n",
    "family_status_pivot = data.pivot_table(index=['family_status', 'family_status_id'], values='debt', aggfunc={'count', 'mean'}).sort_values(by='mean', ascending=False)\n",
    "family_status_pivot.insert(1, 'modal_share',  family_status_pivot['count'] / family_status_pivot['count'].sum())\n",
    "family_status_pivot.columns = ['clients_count', 'clients_share', 'debt_mean']\n",
    "family_status_pivot['clients_count'] = family_status_pivot['clients_count'].astype(int)\n",
    "with pd.option_context('display.float_format', '{:.2%}'.format):\n",
    "    display(family_status_pivot)\n",
    "print()\n",
    "print(family_status_pivot['debt_mean'].plot.bar(figsize=(7,3)))"
   ]
  },
  {
   "cell_type": "markdown",
   "id": "d8a1b070",
   "metadata": {},
   "source": [
    "More than half of all clients are married people, they are also among the most responsible in terms of paying debts on time, along with the divorced and widowed categories. Their overdue ratio is in the region of `6.6-7.5%`.\n",
    "\n",
    "Worse discipline is in the categories of single and civil marriage, their ratio exceeds `9.2%`."
   ]
  },
  {
   "cell_type": "markdown",
   "id": "1cef7837",
   "metadata": {
    "deletable": false,
    "id": "1cef7837"
   },
   "source": [
    "### **Conclusion: relationship between marital status and loan repayment on time**\n",
    "\n",
    "The analysis showed that people who have never been officially married before are slightly more inclined to violate the terms of repayment of debt on a loan."
   ]
  },
  {
   "cell_type": "markdown",
   "id": "97d8c637",
   "metadata": {},
   "source": [
    "In the first part of the project, we have already processed the empty values and the display format of the `total_income` column, and also divided the customers into [5 income categories.](#total_income_category)\n",
    "We can start analyzing right away."
   ]
  },
  {
   "cell_type": "code",
   "execution_count": 58,
   "id": "cd7e3720",
   "metadata": {
    "id": "cd7e3720"
   },
   "outputs": [
    {
     "data": {
      "text/html": [
       "<div>\n",
       "<style scoped>\n",
       "    .dataframe tbody tr th:only-of-type {\n",
       "        vertical-align: middle;\n",
       "    }\n",
       "\n",
       "    .dataframe tbody tr th {\n",
       "        vertical-align: top;\n",
       "    }\n",
       "\n",
       "    .dataframe thead th {\n",
       "        text-align: right;\n",
       "    }\n",
       "</style>\n",
       "<table border=\"1\" class=\"dataframe\">\n",
       "  <thead>\n",
       "    <tr style=\"text-align: right;\">\n",
       "      <th></th>\n",
       "      <th>clients_count</th>\n",
       "      <th>clients_share</th>\n",
       "      <th>debt_mean</th>\n",
       "    </tr>\n",
       "    <tr>\n",
       "      <th>total_income_category</th>\n",
       "      <th></th>\n",
       "      <th></th>\n",
       "      <th></th>\n",
       "    </tr>\n",
       "  </thead>\n",
       "  <tbody>\n",
       "    <tr>\n",
       "      <th>A</th>\n",
       "      <td>25</td>\n",
       "      <td>0.12%</td>\n",
       "      <td>8.00%</td>\n",
       "    </tr>\n",
       "    <tr>\n",
       "      <th>B</th>\n",
       "      <td>5014</td>\n",
       "      <td>23.49%</td>\n",
       "      <td>7.06%</td>\n",
       "    </tr>\n",
       "    <tr>\n",
       "      <th>C</th>\n",
       "      <td>15938</td>\n",
       "      <td>74.66%</td>\n",
       "      <td>8.49%</td>\n",
       "    </tr>\n",
       "    <tr>\n",
       "      <th>D</th>\n",
       "      <td>349</td>\n",
       "      <td>1.63%</td>\n",
       "      <td>6.02%</td>\n",
       "    </tr>\n",
       "    <tr>\n",
       "      <th>E</th>\n",
       "      <td>22</td>\n",
       "      <td>0.10%</td>\n",
       "      <td>9.09%</td>\n",
       "    </tr>\n",
       "  </tbody>\n",
       "</table>\n",
       "</div>"
      ],
      "text/plain": [
       "                       clients_count  clients_share  debt_mean\n",
       "total_income_category                                         \n",
       "A                                 25          0.12%      8.00%\n",
       "B                               5014         23.49%      7.06%\n",
       "C                              15938         74.66%      8.49%\n",
       "D                                349          1.63%      6.02%\n",
       "E                                 22          0.10%      9.09%"
      ]
     },
     "metadata": {},
     "output_type": "display_data"
    },
    {
     "name": "stdout",
     "output_type": "stream",
     "text": [
      "\n",
      "AxesSubplot(0.125,0.11;0.775x0.77)\n"
     ]
    },
    {
     "data": {
      "image/png": "[encoded data removed]",
      "text/plain": [
       "<Figure size 700x300 with 1 Axes>"
      ]
     },
     "metadata": {},
     "output_type": "display_data"
    }
   ],
   "source": [
    "# creating pivot table\n",
    "income_pivot = data.pivot_table(index='total_income_category', values='debt', aggfunc={'count', 'mean'}).sort_values(by='total_income_category')\n",
    "income_pivot.insert(1, 'modal_share', income_pivot['count'] / income_pivot['count'].sum())\n",
    "income_pivot.columns = ['clients_count', 'clients_share', 'debt_mean']\n",
    "income_pivot['clients_count'] = income_pivot['clients_count'].astype(int)\n",
    "with pd.option_context('display.float_format', '{:.2%}'.format):\n",
    "    display(income_pivot)\n",
    "print()\n",
    "print(income_pivot['debt_mean'].plot.bar(figsize=(7,3)))"
   ]
  },
  {
   "cell_type": "markdown",
   "id": "8a2a6f48",
   "metadata": {},
   "source": [
    "So, we found out that about `75%` of customers have an average income level, another `23%` - above average, and the remaining three categories account for less than `2%`.\n",
    "\n",
    "There is also a scatter in the overdue loan repayment ratio. The category of people with low income has the highest delinquency rate (9.1%). In the anti-rating, they are followed by the largest group with an average income level `(8.5%)`. Then the high-income categories `(8%)` and above average `(7%)`. The lowest figure of `6%` keeps the category with an income below the average."
   ]
  },
  {
   "cell_type": "markdown",
   "id": "e8593def",
   "metadata": {
    "deletable": false,
    "id": "e8593def"
   },
   "source": [
    "### **Conclusion: relationship between income level and loan repayment on time**\n",
    "\n",
    "The level of income affects the fact of issuing a loan much more than its timely repayment. `98%` of clients have an average or higher income level. The rest, apparently, are rarely approved or they themselves do not need loans.\n",
    "\n",
    "If we consider only the main part of clients (the above `98%`), then it becomes clear that high income has a positive effect on loan repayment on time. For other categories, the sample is too small to draw fundamental conclusions; single anomalous cases (for example, fraud) can greatly affect the final result."
   ]
  },
  {
   "cell_type": "markdown",
   "id": "e62714af",
   "metadata": {},
   "source": [
    "[Loan objectives](#purpose) were defined in the first part of the project and have 4 categories\n",
    "- `car operations`,\n",
    "- `real estate transactions`,\n",
    "- `wedding`,\n",
    "- `getting an education`."
   ]
  },
  {
   "cell_type": "code",
   "execution_count": 59,
   "id": "2b687290",
   "metadata": {
    "id": "2b687290"
   },
   "outputs": [
    {
     "data": {
      "text/html": [
       "<div>\n",
       "<style scoped>\n",
       "    .dataframe tbody tr th:only-of-type {\n",
       "        vertical-align: middle;\n",
       "    }\n",
       "\n",
       "    .dataframe tbody tr th {\n",
       "        vertical-align: top;\n",
       "    }\n",
       "\n",
       "    .dataframe thead th {\n",
       "        text-align: right;\n",
       "    }\n",
       "</style>\n",
       "<table border=\"1\" class=\"dataframe\">\n",
       "  <thead>\n",
       "    <tr style=\"text-align: right;\">\n",
       "      <th></th>\n",
       "      <th>clients_count</th>\n",
       "      <th>clients_share</th>\n",
       "      <th>debt_mean</th>\n",
       "    </tr>\n",
       "    <tr>\n",
       "      <th>purpose_category</th>\n",
       "      <th></th>\n",
       "      <th></th>\n",
       "      <th></th>\n",
       "    </tr>\n",
       "  </thead>\n",
       "  <tbody>\n",
       "    <tr>\n",
       "      <th>операции с недвижимостью</th>\n",
       "      <td>10754</td>\n",
       "      <td>50.37%</td>\n",
       "      <td>7.25%</td>\n",
       "    </tr>\n",
       "    <tr>\n",
       "      <th>операции с автомобилем</th>\n",
       "      <td>4281</td>\n",
       "      <td>20.05%</td>\n",
       "      <td>9.34%</td>\n",
       "    </tr>\n",
       "    <tr>\n",
       "      <th>получение образования</th>\n",
       "      <td>3989</td>\n",
       "      <td>18.69%</td>\n",
       "      <td>9.25%</td>\n",
       "    </tr>\n",
       "    <tr>\n",
       "      <th>проведение свадьбы</th>\n",
       "      <td>2324</td>\n",
       "      <td>10.89%</td>\n",
       "      <td>7.87%</td>\n",
       "    </tr>\n",
       "  </tbody>\n",
       "</table>\n",
       "</div>"
      ],
      "text/plain": [
       "                          clients_count  clients_share  debt_mean\n",
       "purpose_category                                                 \n",
       "операции с недвижимостью          10754         50.37%      7.25%\n",
       "операции с автомобилем             4281         20.05%      9.34%\n",
       "получение образования              3989         18.69%      9.25%\n",
       "проведение свадьбы                 2324         10.89%      7.87%"
      ]
     },
     "metadata": {},
     "output_type": "display_data"
    },
    {
     "name": "stdout",
     "output_type": "stream",
     "text": [
      "\n",
      "AxesSubplot(0.125,0.11;0.775x0.77)\n"
     ]
    },
    {
     "data": {
      "image/png": "[encoded data removed]",
      "text/plain": [
       "<Figure size 700x300 with 1 Axes>"
      ]
     },
     "metadata": {},
     "output_type": "display_data"
    }
   ],
   "source": [
    "# creating pivot table\n",
    "purpose_pivot = data.pivot_table(index='purpose_category', values='debt', aggfunc={'count', 'mean'}).sort_values(by='count', ascending=False)\n",
    "purpose_pivot.insert(1, 'modal_share', purpose_pivot['count'] / purpose_pivot['count'].sum())\n",
    "purpose_pivot.columns = ['clients_count', 'clients_share', 'debt_mean']\n",
    "purpose_pivot['clients_count'] = purpose_pivot['clients_count'].astype(int)\n",
    "with pd.option_context('display.float_format', '{:.2%}'.format):\n",
    "    display(purpose_pivot)\n",
    "print()\n",
    "print(purpose_pivot['debt_mean'].plot.bar(figsize=(7,3)))"
   ]
  },
  {
   "cell_type": "markdown",
   "id": "fc21ca15",
   "metadata": {},
   "source": [
    "Half of all loans are issued for real estate transactions, they also have the lowest delinquency rate (`7.25%`). The overdue ratio (`7.87%`) is slightly higher for those few loans that were issued for wedding celebrations.\n",
    "\n",
    "Less frequently paid on time are loans issued for car and education operations, which also have an equal quantitative ratio (at `20%` for each category) - their delinquency rate is approximately `9.3%`."
   ]
  },
  {
   "cell_type": "markdown",
   "id": "b4bb2ce6",
   "metadata": {
    "deletable": false,
    "id": "b4bb2ce6"
   },
   "source": [
    "### **Conclusion: The relationship between the objectives of the loan and its repayment on time**\n",
    "\n",
    "It turns out that loans for real estate transactions and for weddings are more often paid on time than other categories presented. This is probably due to the responsible approach of the first category and the high payback of the last category.\n",
    "\n",
    "Automotive loans and education loans have roughly the same statistics, and their delinquency rate exceeds `9%`."
   ]
  },
  {
   "cell_type": "markdown",
   "id": "6db5255a",
   "metadata": {
    "deletable": false,
    "editable": false,
    "id": "6db5255a"
   },
   "source": [
    "## General conclusion"
   ]
  },
  {
   "cell_type": "markdown",
   "id": "bad65432",
   "metadata": {
    "id": "bad65432"
   },
   "source": [
    "As part of the study of the reliability of bank borrowers, the influence of such indicators as the number of children of the client, marital status, income level and the purpose of the loan on the fact of closing the loan on time was determined.\n",
    "\n",
    "When processing the input database from the bank, errors and missing values ​​were found and processed in the data on the number of children in the family, total work experience, age of clients and monthly income. Additional generalizing categories by income level and purpose of the loan have been added.\n",
    "\n",
    "The analysis revealed a slight negative impact of the presence of children on the timely payment of debt on loans. Although there is not enough data on large families, nevertheless, with an increase in the number of children in a family, an increase in the delinquency rate is observed.\n",
    "\n",
    "The semen status of the client also has little effect. So, people who have never been officially married before have a little more arrears on loans.\n",
    "\n",
    "Additionally, the factor of loan repayment on time is influenced by the client's income level and the purpose of the loan, which must also be taken into account when building a credit scoring model."
   ]
  }
 ],
 "metadata": {
  "ExecuteTimeLog": [
   {
    "duration": 526,
    "start_time": "2022-07-27T15:26:00.785Z"
   },
   {
    "duration": 25,
    "start_time": "2022-07-27T15:26:04.835Z"
   },
   {
    "duration": 17,
    "start_time": "2022-07-27T15:26:12.478Z"
   },
   {
    "duration": 10,
    "start_time": "2022-07-27T15:26:22.296Z"
   },
   {
    "duration": 38,
    "start_time": "2022-07-27T15:26:46.224Z"
   },
   {
    "duration": 5,
    "start_time": "2022-07-27T15:26:54.867Z"
   },
   {
    "duration": 9,
    "start_time": "2022-07-27T15:27:01.743Z"
   },
   {
    "duration": 5,
    "start_time": "2022-07-27T15:27:07.902Z"
   },
   {
    "duration": 7,
    "start_time": "2022-07-27T15:27:16.951Z"
   },
   {
    "duration": 5,
    "start_time": "2022-07-27T15:27:20.718Z"
   },
   {
    "duration": 35,
    "start_time": "2022-07-27T15:27:40.220Z"
   },
   {
    "duration": 10,
    "start_time": "2022-07-27T15:27:53.147Z"
   },
   {
    "duration": 3,
    "start_time": "2022-07-27T15:27:57.814Z"
   },
   {
    "duration": 19,
    "start_time": "2022-07-27T15:28:00.644Z"
   },
   {
    "duration": 18,
    "start_time": "2022-07-27T15:28:01.654Z"
   },
   {
    "duration": 13,
    "start_time": "2022-07-27T15:28:06.467Z"
   },
   {
    "duration": 3,
    "start_time": "2022-07-27T15:28:27.642Z"
   },
   {
    "duration": 12,
    "start_time": "2022-07-27T15:28:31.482Z"
   },
   {
    "duration": 6,
    "start_time": "2022-07-27T15:28:34.412Z"
   },
   {
    "duration": 3,
    "start_time": "2022-07-27T15:29:02.558Z"
   },
   {
    "duration": 10,
    "start_time": "2022-07-27T15:29:04.969Z"
   },
   {
    "duration": 29,
    "start_time": "2022-07-27T15:32:57.640Z"
   },
   {
    "duration": 99,
    "start_time": "2022-07-27T15:46:08.843Z"
   },
   {
    "duration": 13,
    "start_time": "2022-07-27T15:46:17.485Z"
   },
   {
    "duration": 481,
    "start_time": "2022-07-27T15:48:22.835Z"
   },
   {
    "duration": 99,
    "start_time": "2022-07-27T15:48:47.431Z"
   },
   {
    "duration": 244,
    "start_time": "2022-07-27T15:48:57.435Z"
   },
   {
    "duration": 6,
    "start_time": "2022-07-27T15:59:22.230Z"
   },
   {
    "duration": 92,
    "start_time": "2022-07-27T16:00:17.527Z"
   },
   {
    "duration": 247,
    "start_time": "2022-07-27T16:00:21.635Z"
   },
   {
    "duration": 292,
    "start_time": "2022-07-27T16:00:55.138Z"
   },
   {
    "duration": 24,
    "start_time": "2022-07-27T16:01:06.658Z"
   },
   {
    "duration": 351,
    "start_time": "2022-07-27T16:01:14.346Z"
   },
   {
    "duration": 9,
    "start_time": "2022-07-27T16:02:05.152Z"
   },
   {
    "duration": 231,
    "start_time": "2022-07-27T16:02:13.234Z"
   },
   {
    "duration": 244,
    "start_time": "2022-07-27T16:03:29.939Z"
   },
   {
    "duration": 211,
    "start_time": "2022-07-27T16:03:47.886Z"
   },
   {
    "duration": 4,
    "start_time": "2022-07-27T16:07:10.523Z"
   },
   {
    "duration": 6,
    "start_time": "2022-07-27T16:07:24.630Z"
   },
   {
    "duration": 7,
    "start_time": "2022-07-27T16:07:56.649Z"
   },
   {
    "duration": 8,
    "start_time": "2022-07-27T16:08:30.734Z"
   },
   {
    "duration": 88,
    "start_time": "2022-07-27T16:09:06.157Z"
   },
   {
    "duration": 12,
    "start_time": "2022-07-27T16:09:21.130Z"
   },
   {
    "duration": 6,
    "start_time": "2022-07-27T16:09:31.550Z"
   },
   {
    "duration": 10,
    "start_time": "2022-07-27T16:09:56.854Z"
   },
   {
    "duration": 6,
    "start_time": "2022-07-27T16:10:43.891Z"
   },
   {
    "duration": 13,
    "start_time": "2022-07-27T16:12:07.069Z"
   },
   {
    "duration": 9,
    "start_time": "2022-07-27T16:12:23.529Z"
   },
   {
    "duration": 4,
    "start_time": "2022-07-27T16:13:04.323Z"
   },
   {
    "duration": 35,
    "start_time": "2022-07-27T16:13:07.990Z"
   },
   {
    "duration": 256,
    "start_time": "2022-07-27T16:13:16.061Z"
   },
   {
    "duration": 226,
    "start_time": "2022-07-27T16:13:44.225Z"
   },
   {
    "duration": 16,
    "start_time": "2022-07-27T16:14:52.854Z"
   },
   {
    "duration": 304,
    "start_time": "2022-07-27T16:15:01.825Z"
   },
   {
    "duration": 87,
    "start_time": "2022-07-27T16:15:18.130Z"
   },
   {
    "duration": 16,
    "start_time": "2022-07-27T16:15:22.148Z"
   },
   {
    "duration": 11,
    "start_time": "2022-07-27T16:16:54.059Z"
   },
   {
    "duration": 247,
    "start_time": "2022-07-27T16:17:05.561Z"
   },
   {
    "duration": 258,
    "start_time": "2022-07-27T16:18:31.231Z"
   },
   {
    "duration": 78,
    "start_time": "2022-07-27T16:18:56.180Z"
   },
   {
    "duration": 449,
    "start_time": "2022-07-27T16:18:58.438Z"
   },
   {
    "duration": 545,
    "start_time": "2022-07-27T16:19:44.118Z"
   },
   {
    "duration": 243,
    "start_time": "2022-07-27T16:20:18.344Z"
   },
   {
    "duration": 7,
    "start_time": "2022-07-27T16:20:44.734Z"
   },
   {
    "duration": 234,
    "start_time": "2022-07-27T16:21:01.238Z"
   },
   {
    "duration": 7,
    "start_time": "2022-07-27T16:23:14.067Z"
   },
   {
    "duration": 12,
    "start_time": "2022-07-27T16:23:37.401Z"
   },
   {
    "duration": 7,
    "start_time": "2022-07-27T16:23:50.531Z"
   },
   {
    "duration": 7,
    "start_time": "2022-07-27T16:25:34.535Z"
   },
   {
    "duration": 18,
    "start_time": "2022-07-27T16:25:46.040Z"
   },
   {
    "duration": 8,
    "start_time": "2022-07-27T16:26:16.426Z"
   },
   {
    "duration": 7,
    "start_time": "2022-07-27T16:26:19.837Z"
   },
   {
    "duration": 9,
    "start_time": "2022-07-27T16:26:46.196Z"
   },
   {
    "duration": 18,
    "start_time": "2022-07-27T16:28:04.638Z"
   },
   {
    "duration": 272,
    "start_time": "2022-07-27T16:28:09.067Z"
   },
   {
    "duration": 370,
    "start_time": "2022-07-27T16:28:18.076Z"
   },
   {
    "duration": 225,
    "start_time": "2022-07-27T16:28:35.544Z"
   },
   {
    "duration": 5,
    "start_time": "2022-07-27T16:29:13.828Z"
   },
   {
    "duration": 5,
    "start_time": "2022-07-27T16:29:34.024Z"
   },
   {
    "duration": 240,
    "start_time": "2022-07-27T16:32:51.690Z"
   },
   {
    "duration": 84,
    "start_time": "2022-07-27T16:39:59.940Z"
   },
   {
    "duration": 5,
    "start_time": "2022-07-27T16:40:51.968Z"
   },
   {
    "duration": 248,
    "start_time": "2022-07-27T16:42:37.123Z"
   },
   {
    "duration": 165,
    "start_time": "2022-07-27T16:42:44.585Z"
   },
   {
    "duration": 157,
    "start_time": "2022-07-27T16:42:49.833Z"
   },
   {
    "duration": 157,
    "start_time": "2022-07-27T16:44:52.022Z"
   },
   {
    "duration": 169,
    "start_time": "2022-07-27T16:45:05.116Z"
   },
   {
    "duration": 157,
    "start_time": "2022-07-27T16:45:14.787Z"
   },
   {
    "duration": 160,
    "start_time": "2022-07-27T16:52:18.456Z"
   },
   {
    "duration": 162,
    "start_time": "2022-07-27T16:59:16.421Z"
   },
   {
    "duration": 163,
    "start_time": "2022-07-27T17:09:54.753Z"
   },
   {
    "duration": 43,
    "start_time": "2022-07-28T02:43:55.057Z"
   },
   {
    "duration": 650,
    "start_time": "2022-07-28T02:44:06.143Z"
   },
   {
    "duration": 19,
    "start_time": "2022-07-28T02:44:06.795Z"
   },
   {
    "duration": 12,
    "start_time": "2022-07-28T02:44:06.816Z"
   },
   {
    "duration": 8,
    "start_time": "2022-07-28T02:44:06.829Z"
   },
   {
    "duration": 39,
    "start_time": "2022-07-28T02:44:06.839Z"
   },
   {
    "duration": 4,
    "start_time": "2022-07-28T02:44:06.879Z"
   },
   {
    "duration": 11,
    "start_time": "2022-07-28T02:44:06.884Z"
   },
   {
    "duration": 4,
    "start_time": "2022-07-28T02:44:06.896Z"
   },
   {
    "duration": 7,
    "start_time": "2022-07-28T02:44:06.902Z"
   },
   {
    "duration": 3,
    "start_time": "2022-07-28T02:44:06.912Z"
   },
   {
    "duration": 61,
    "start_time": "2022-07-28T02:44:06.917Z"
   },
   {
    "duration": 10,
    "start_time": "2022-07-28T02:44:06.980Z"
   },
   {
    "duration": 7,
    "start_time": "2022-07-28T02:44:06.991Z"
   },
   {
    "duration": 18,
    "start_time": "2022-07-28T02:44:07.000Z"
   },
   {
    "duration": 15,
    "start_time": "2022-07-28T02:44:07.019Z"
   },
   {
    "duration": 10,
    "start_time": "2022-07-28T02:44:07.035Z"
   },
   {
    "duration": 27,
    "start_time": "2022-07-28T02:44:07.046Z"
   },
   {
    "duration": 9,
    "start_time": "2022-07-28T02:44:07.074Z"
   },
   {
    "duration": 13,
    "start_time": "2022-07-28T02:44:07.084Z"
   },
   {
    "duration": 3,
    "start_time": "2022-07-28T02:44:09.779Z"
   },
   {
    "duration": 7,
    "start_time": "2022-07-28T02:44:09.801Z"
   },
   {
    "duration": 4,
    "start_time": "2022-07-28T02:44:09.833Z"
   },
   {
    "duration": 5,
    "start_time": "2022-07-28T02:44:09.838Z"
   },
   {
    "duration": 483,
    "start_time": "2022-07-28T02:44:23.931Z"
   },
   {
    "duration": 13,
    "start_time": "2022-07-28T02:44:24.416Z"
   },
   {
    "duration": 254,
    "start_time": "2022-07-28T07:30:43.170Z"
   },
   {
    "duration": 257,
    "start_time": "2022-07-28T07:30:55.086Z"
   },
   {
    "duration": 201,
    "start_time": "2022-07-28T07:32:04.719Z"
   },
   {
    "duration": 193,
    "start_time": "2022-07-28T07:32:15.307Z"
   },
   {
    "duration": 45,
    "start_time": "2022-07-29T16:57:14.390Z"
   },
   {
    "duration": 942,
    "start_time": "2022-07-29T16:57:21.711Z"
   },
   {
    "duration": 21,
    "start_time": "2022-07-29T16:57:22.654Z"
   },
   {
    "duration": 13,
    "start_time": "2022-07-29T16:57:22.676Z"
   },
   {
    "duration": 16,
    "start_time": "2022-07-29T16:57:22.691Z"
   },
   {
    "duration": 34,
    "start_time": "2022-07-29T16:57:22.709Z"
   },
   {
    "duration": 17,
    "start_time": "2022-07-29T16:57:22.744Z"
   },
   {
    "duration": 20,
    "start_time": "2022-07-29T16:57:22.762Z"
   },
   {
    "duration": 13,
    "start_time": "2022-07-29T16:57:22.784Z"
   },
   {
    "duration": 12,
    "start_time": "2022-07-29T16:57:22.799Z"
   },
   {
    "duration": 5,
    "start_time": "2022-07-29T16:57:22.814Z"
   },
   {
    "duration": 34,
    "start_time": "2022-07-29T16:57:22.820Z"
   },
   {
    "duration": 9,
    "start_time": "2022-07-29T16:57:22.855Z"
   },
   {
    "duration": 4,
    "start_time": "2022-07-29T16:57:22.866Z"
   },
   {
    "duration": 19,
    "start_time": "2022-07-29T16:57:22.873Z"
   },
   {
    "duration": 14,
    "start_time": "2022-07-29T16:57:22.894Z"
   },
   {
    "duration": 10,
    "start_time": "2022-07-29T16:57:22.910Z"
   },
   {
    "duration": 7,
    "start_time": "2022-07-29T16:57:22.922Z"
   },
   {
    "duration": 30,
    "start_time": "2022-07-29T16:57:22.930Z"
   },
   {
    "duration": 5,
    "start_time": "2022-07-29T16:57:22.962Z"
   },
   {
    "duration": 7,
    "start_time": "2022-07-29T16:57:22.969Z"
   },
   {
    "duration": 20,
    "start_time": "2022-07-29T16:57:22.978Z"
   },
   {
    "duration": 9,
    "start_time": "2022-07-29T16:57:22.999Z"
   },
   {
    "duration": 6,
    "start_time": "2022-07-29T16:57:23.009Z"
   },
   {
    "duration": 596,
    "start_time": "2022-07-29T16:57:23.016Z"
   },
   {
    "duration": 12,
    "start_time": "2022-07-29T16:57:23.614Z"
   },
   {
    "duration": 7,
    "start_time": "2022-07-29T16:57:30.439Z"
   },
   {
    "duration": 8,
    "start_time": "2022-07-29T16:58:01.628Z"
   },
   {
    "duration": 7,
    "start_time": "2022-07-29T16:58:14.263Z"
   },
   {
    "duration": 60,
    "start_time": "2022-07-29T17:00:29.369Z"
   },
   {
    "duration": 8,
    "start_time": "2022-07-29T17:00:38.786Z"
   },
   {
    "duration": 8,
    "start_time": "2022-07-29T17:00:53.820Z"
   },
   {
    "duration": 9,
    "start_time": "2022-07-29T17:01:00.368Z"
   },
   {
    "duration": 9,
    "start_time": "2022-07-29T17:02:20.888Z"
   },
   {
    "duration": 9,
    "start_time": "2022-07-29T17:02:34.162Z"
   },
   {
    "duration": 10,
    "start_time": "2022-07-29T17:02:51.218Z"
   },
   {
    "duration": 13,
    "start_time": "2022-07-29T17:03:02.337Z"
   },
   {
    "duration": 11,
    "start_time": "2022-07-29T17:03:32.468Z"
   },
   {
    "duration": 920,
    "start_time": "2022-07-29T17:04:33.364Z"
   },
   {
    "duration": 7,
    "start_time": "2022-07-29T17:04:58.968Z"
   },
   {
    "duration": 21,
    "start_time": "2022-07-29T17:08:32.888Z"
   },
   {
    "duration": 17,
    "start_time": "2022-07-29T17:08:41.529Z"
   },
   {
    "duration": 16,
    "start_time": "2022-07-29T17:09:59.672Z"
   },
   {
    "duration": 10,
    "start_time": "2022-07-29T17:11:21.099Z"
   },
   {
    "duration": 16,
    "start_time": "2022-07-29T17:11:27.357Z"
   },
   {
    "duration": 14,
    "start_time": "2022-07-29T17:11:38.467Z"
   },
   {
    "duration": 14,
    "start_time": "2022-07-29T17:11:41.696Z"
   },
   {
    "duration": 16,
    "start_time": "2022-07-29T17:12:11.456Z"
   },
   {
    "duration": 3,
    "start_time": "2022-07-29T17:12:28.482Z"
   },
   {
    "duration": 60,
    "start_time": "2022-07-29T17:12:35.561Z"
   },
   {
    "duration": 95,
    "start_time": "2022-07-29T17:12:45.292Z"
   },
   {
    "duration": 15,
    "start_time": "2022-07-29T17:12:51.511Z"
   },
   {
    "duration": 12,
    "start_time": "2022-07-29T17:12:57.232Z"
   },
   {
    "duration": 12,
    "start_time": "2022-07-29T17:13:12.620Z"
   },
   {
    "duration": 7,
    "start_time": "2022-07-29T17:13:52.360Z"
   },
   {
    "duration": 15,
    "start_time": "2022-07-29T17:18:55.126Z"
   },
   {
    "duration": 13,
    "start_time": "2022-07-29T17:19:19.830Z"
   },
   {
    "duration": 30,
    "start_time": "2022-07-29T17:19:24.074Z"
   },
   {
    "duration": 16,
    "start_time": "2022-07-29T17:20:19.203Z"
   },
   {
    "duration": 4,
    "start_time": "2022-07-29T17:22:12.355Z"
   },
   {
    "duration": 4,
    "start_time": "2022-07-29T17:22:49.964Z"
   },
   {
    "duration": 5,
    "start_time": "2022-07-29T17:23:05.932Z"
   },
   {
    "duration": 20,
    "start_time": "2022-07-29T17:23:53.117Z"
   },
   {
    "duration": 249,
    "start_time": "2022-07-29T17:24:19.944Z"
   },
   {
    "duration": 14,
    "start_time": "2022-07-29T17:25:20.128Z"
   },
   {
    "duration": 17,
    "start_time": "2022-07-29T17:25:53.066Z"
   },
   {
    "duration": 18,
    "start_time": "2022-07-29T17:26:26.499Z"
   },
   {
    "duration": 8,
    "start_time": "2022-07-29T17:27:00.869Z"
   },
   {
    "duration": 8,
    "start_time": "2022-07-29T17:27:34.434Z"
   },
   {
    "duration": 23,
    "start_time": "2022-07-29T17:27:39.934Z"
   },
   {
    "duration": 933,
    "start_time": "2022-07-29T17:27:48.264Z"
   },
   {
    "duration": 16,
    "start_time": "2022-07-29T17:27:56.152Z"
   },
   {
    "duration": 17,
    "start_time": "2022-07-29T17:28:25.260Z"
   },
   {
    "duration": 23,
    "start_time": "2022-07-29T17:29:46.448Z"
   },
   {
    "duration": 22,
    "start_time": "2022-07-29T17:32:44.640Z"
   },
   {
    "duration": 238,
    "start_time": "2022-07-29T17:33:21.142Z"
   },
   {
    "duration": 246,
    "start_time": "2022-07-29T17:34:06.851Z"
   },
   {
    "duration": 227,
    "start_time": "2022-07-29T17:34:20.746Z"
   },
   {
    "duration": 15,
    "start_time": "2022-07-29T17:34:44.135Z"
   },
   {
    "duration": 14,
    "start_time": "2022-07-29T17:34:46.193Z"
   },
   {
    "duration": 12,
    "start_time": "2022-07-29T17:34:56.591Z"
   },
   {
    "duration": 13,
    "start_time": "2022-07-29T17:35:18.151Z"
   },
   {
    "duration": 13,
    "start_time": "2022-07-29T17:35:33.020Z"
   },
   {
    "duration": 285,
    "start_time": "2022-07-29T17:35:46.238Z"
   },
   {
    "duration": 208,
    "start_time": "2022-07-29T17:35:50.381Z"
   },
   {
    "duration": 265,
    "start_time": "2022-07-29T17:35:55.625Z"
   },
   {
    "duration": 219,
    "start_time": "2022-07-29T17:36:04.027Z"
   },
   {
    "duration": 214,
    "start_time": "2022-07-29T17:36:11.185Z"
   },
   {
    "duration": 299,
    "start_time": "2022-07-29T17:36:22.277Z"
   },
   {
    "duration": 9,
    "start_time": "2022-07-29T17:37:23.435Z"
   },
   {
    "duration": 8,
    "start_time": "2022-07-29T17:37:26.870Z"
   },
   {
    "duration": 15,
    "start_time": "2022-07-29T17:37:35.138Z"
   },
   {
    "duration": 17,
    "start_time": "2022-07-29T17:37:52.661Z"
   },
   {
    "duration": 59,
    "start_time": "2022-07-29T17:38:08.096Z"
   },
   {
    "duration": 19,
    "start_time": "2022-07-29T17:38:20.333Z"
   },
   {
    "duration": 20,
    "start_time": "2022-07-29T17:38:49.780Z"
   },
   {
    "duration": 21,
    "start_time": "2022-07-29T17:39:05.468Z"
   },
   {
    "duration": 15,
    "start_time": "2022-07-29T17:39:23.020Z"
   },
   {
    "duration": 7,
    "start_time": "2022-07-29T18:01:38.131Z"
   },
   {
    "duration": 20,
    "start_time": "2022-07-29T18:02:56.422Z"
   },
   {
    "duration": 372,
    "start_time": "2022-07-29T18:03:47.348Z"
   },
   {
    "duration": 299,
    "start_time": "2022-07-29T18:03:51.232Z"
   },
   {
    "duration": 668,
    "start_time": "2022-07-29T18:09:28.177Z"
   },
   {
    "duration": 19,
    "start_time": "2022-07-29T18:09:28.847Z"
   },
   {
    "duration": 23,
    "start_time": "2022-07-29T18:09:28.870Z"
   },
   {
    "duration": 10,
    "start_time": "2022-07-29T18:09:28.894Z"
   },
   {
    "duration": 31,
    "start_time": "2022-07-29T18:09:28.906Z"
   },
   {
    "duration": 3,
    "start_time": "2022-07-29T18:09:28.939Z"
   },
   {
    "duration": 33,
    "start_time": "2022-07-29T18:09:28.944Z"
   },
   {
    "duration": 6,
    "start_time": "2022-07-29T18:09:28.979Z"
   },
   {
    "duration": 13,
    "start_time": "2022-07-29T18:09:28.986Z"
   },
   {
    "duration": 9,
    "start_time": "2022-07-29T18:09:29.001Z"
   },
   {
    "duration": 47,
    "start_time": "2022-07-29T18:09:29.012Z"
   },
   {
    "duration": 17,
    "start_time": "2022-07-29T18:09:29.060Z"
   },
   {
    "duration": 9,
    "start_time": "2022-07-29T18:09:29.078Z"
   },
   {
    "duration": 27,
    "start_time": "2022-07-29T18:09:29.091Z"
   },
   {
    "duration": 15,
    "start_time": "2022-07-29T18:09:29.120Z"
   },
   {
    "duration": 26,
    "start_time": "2022-07-29T18:09:29.136Z"
   },
   {
    "duration": 7,
    "start_time": "2022-07-29T18:09:29.168Z"
   },
   {
    "duration": 13,
    "start_time": "2022-07-29T18:09:29.176Z"
   },
   {
    "duration": 8,
    "start_time": "2022-07-29T18:09:29.190Z"
   },
   {
    "duration": 3,
    "start_time": "2022-07-29T18:09:29.200Z"
   },
   {
    "duration": 11,
    "start_time": "2022-07-29T18:09:29.204Z"
   },
   {
    "duration": 5,
    "start_time": "2022-07-29T18:09:29.216Z"
   },
   {
    "duration": 6,
    "start_time": "2022-07-29T18:09:29.223Z"
   },
   {
    "duration": 64,
    "start_time": "2022-07-29T18:10:33.393Z"
   },
   {
    "duration": 39,
    "start_time": "2022-07-29T18:10:48.959Z"
   },
   {
    "duration": 41,
    "start_time": "2022-07-29T18:12:55.940Z"
   },
   {
    "duration": 162,
    "start_time": "2022-07-29T18:13:08.776Z"
   },
   {
    "duration": 137,
    "start_time": "2022-07-29T18:13:21.174Z"
   },
   {
    "duration": 1057,
    "start_time": "2022-07-29T18:13:47.332Z"
   },
   {
    "duration": 21,
    "start_time": "2022-07-29T18:13:58.351Z"
   },
   {
    "duration": 228,
    "start_time": "2022-07-29T18:16:20.345Z"
   },
   {
    "duration": 159,
    "start_time": "2022-07-29T18:16:24.315Z"
   },
   {
    "duration": 137,
    "start_time": "2022-07-29T18:16:53.616Z"
   },
   {
    "duration": 168,
    "start_time": "2022-07-29T18:17:28.034Z"
   },
   {
    "duration": 166,
    "start_time": "2022-07-29T18:17:42.723Z"
   },
   {
    "duration": 163,
    "start_time": "2022-07-29T18:18:12.950Z"
   },
   {
    "duration": 186,
    "start_time": "2022-07-29T18:18:20.565Z"
   },
   {
    "duration": 174,
    "start_time": "2022-07-29T18:18:28.913Z"
   },
   {
    "duration": 279,
    "start_time": "2022-07-29T18:18:39.889Z"
   },
   {
    "duration": 171,
    "start_time": "2022-07-29T18:18:49.073Z"
   },
   {
    "duration": 187,
    "start_time": "2022-07-29T18:20:15.987Z"
   },
   {
    "duration": 157,
    "start_time": "2022-07-29T18:20:31.983Z"
   },
   {
    "duration": 168,
    "start_time": "2022-07-29T18:21:02.658Z"
   },
   {
    "duration": 184,
    "start_time": "2022-07-29T18:23:16.311Z"
   },
   {
    "duration": 158,
    "start_time": "2022-07-29T18:23:30.535Z"
   },
   {
    "duration": 192,
    "start_time": "2022-07-29T18:24:08.684Z"
   },
   {
    "duration": 244,
    "start_time": "2022-07-29T18:24:17.011Z"
   },
   {
    "duration": 160,
    "start_time": "2022-07-29T18:24:39.359Z"
   },
   {
    "duration": 53,
    "start_time": "2022-07-29T18:25:34.570Z"
   },
   {
    "duration": 140,
    "start_time": "2022-07-29T18:25:43.484Z"
   },
   {
    "duration": 405,
    "start_time": "2022-07-29T18:25:55.276Z"
   },
   {
    "duration": 356,
    "start_time": "2022-07-29T18:26:11.290Z"
   },
   {
    "duration": 438,
    "start_time": "2022-07-29T18:26:23.789Z"
   },
   {
    "duration": 38,
    "start_time": "2022-07-29T18:26:53.048Z"
   },
   {
    "duration": 23,
    "start_time": "2022-07-29T18:26:55.823Z"
   },
   {
    "duration": 209,
    "start_time": "2022-07-29T18:27:03.236Z"
   },
   {
    "duration": 30,
    "start_time": "2022-07-29T18:27:38.955Z"
   },
   {
    "duration": 212,
    "start_time": "2022-07-29T18:28:36.758Z"
   },
   {
    "duration": 204,
    "start_time": "2022-07-29T18:28:46.939Z"
   },
   {
    "duration": 278,
    "start_time": "2022-07-29T18:29:10.212Z"
   },
   {
    "duration": 341,
    "start_time": "2022-07-29T18:30:46.212Z"
   },
   {
    "duration": 280,
    "start_time": "2022-07-29T18:31:51.920Z"
   },
   {
    "duration": 263,
    "start_time": "2022-07-29T18:32:00.978Z"
   },
   {
    "duration": 371,
    "start_time": "2022-07-29T18:32:38.060Z"
   },
   {
    "duration": 212,
    "start_time": "2022-07-29T18:32:50.846Z"
   },
   {
    "duration": 329,
    "start_time": "2022-07-29T18:33:06.092Z"
   },
   {
    "duration": 218,
    "start_time": "2022-07-29T18:33:17.014Z"
   },
   {
    "duration": 271,
    "start_time": "2022-07-29T18:33:23.731Z"
   },
   {
    "duration": 270,
    "start_time": "2022-07-29T18:33:45.148Z"
   },
   {
    "duration": 276,
    "start_time": "2022-07-29T18:36:02.013Z"
   },
   {
    "duration": 259,
    "start_time": "2022-07-29T18:36:39.768Z"
   },
   {
    "duration": 196,
    "start_time": "2022-07-29T18:36:56.543Z"
   },
   {
    "duration": 24,
    "start_time": "2022-07-29T18:38:21.822Z"
   },
   {
    "duration": 190,
    "start_time": "2022-07-29T18:38:29.283Z"
   },
   {
    "duration": 263,
    "start_time": "2022-07-29T18:38:41.514Z"
   },
   {
    "duration": 249,
    "start_time": "2022-07-29T18:38:47.993Z"
   },
   {
    "duration": 245,
    "start_time": "2022-07-29T18:40:53.373Z"
   },
   {
    "duration": 21,
    "start_time": "2022-07-29T18:44:06.536Z"
   },
   {
    "duration": 15,
    "start_time": "2022-07-29T18:45:53.513Z"
   },
   {
    "duration": 15,
    "start_time": "2022-07-29T18:45:59.459Z"
   },
   {
    "duration": 269,
    "start_time": "2022-07-29T18:46:43.723Z"
   },
   {
    "duration": 336,
    "start_time": "2022-07-29T18:58:07.786Z"
   },
   {
    "duration": 49,
    "start_time": "2022-07-29T19:07:51.568Z"
   },
   {
    "duration": 57,
    "start_time": "2022-07-29T19:08:00.433Z"
   },
   {
    "duration": 63,
    "start_time": "2022-07-29T19:08:11.925Z"
   },
   {
    "duration": 22,
    "start_time": "2022-07-29T19:08:24.900Z"
   },
   {
    "duration": 287,
    "start_time": "2022-07-29T19:08:38.824Z"
   },
   {
    "duration": 21,
    "start_time": "2022-07-29T19:10:05.903Z"
   },
   {
    "duration": 268,
    "start_time": "2022-07-29T19:11:45.338Z"
   },
   {
    "duration": 276,
    "start_time": "2022-07-29T19:13:08.074Z"
   },
   {
    "duration": 269,
    "start_time": "2022-07-29T19:13:27.642Z"
   },
   {
    "duration": 270,
    "start_time": "2022-07-29T19:13:58.149Z"
   },
   {
    "duration": 14,
    "start_time": "2022-07-29T19:14:36.905Z"
   },
   {
    "duration": 15,
    "start_time": "2022-07-29T19:14:56.831Z"
   },
   {
    "duration": 16,
    "start_time": "2022-07-29T19:15:11.032Z"
   },
   {
    "duration": 1313,
    "start_time": "2022-07-29T19:17:43.468Z"
   },
   {
    "duration": 1254,
    "start_time": "2022-07-29T19:17:58.017Z"
   },
   {
    "duration": 19,
    "start_time": "2022-07-29T19:18:15.007Z"
   },
   {
    "duration": 15,
    "start_time": "2022-07-29T19:18:42.515Z"
   },
   {
    "duration": 13,
    "start_time": "2022-07-29T19:21:22.366Z"
   },
   {
    "duration": 16,
    "start_time": "2022-07-29T19:21:46.605Z"
   },
   {
    "duration": 111,
    "start_time": "2022-07-29T19:22:05.422Z"
   },
   {
    "duration": 21,
    "start_time": "2022-07-29T19:22:16.884Z"
   },
   {
    "duration": 23,
    "start_time": "2022-07-29T19:23:31.625Z"
   },
   {
    "duration": 15,
    "start_time": "2022-07-29T19:24:22.012Z"
   },
   {
    "duration": 67,
    "start_time": "2022-07-29T19:26:13.109Z"
   },
   {
    "duration": 17,
    "start_time": "2022-07-29T19:26:16.658Z"
   },
   {
    "duration": 1089,
    "start_time": "2022-07-29T19:26:47.046Z"
   },
   {
    "duration": 16,
    "start_time": "2022-07-29T19:26:53.677Z"
   },
   {
    "duration": 58,
    "start_time": "2022-07-29T19:27:49.982Z"
   },
   {
    "duration": 22,
    "start_time": "2022-07-29T19:28:45.910Z"
   },
   {
    "duration": 13,
    "start_time": "2022-07-29T19:30:38.515Z"
   },
   {
    "duration": 11,
    "start_time": "2022-07-29T19:30:46.594Z"
   },
   {
    "duration": 302,
    "start_time": "2022-07-29T19:32:40.329Z"
   },
   {
    "duration": 98,
    "start_time": "2022-07-29T19:33:46.608Z"
   },
   {
    "duration": 16,
    "start_time": "2022-07-29T19:34:14.430Z"
   },
   {
    "duration": 11,
    "start_time": "2022-07-29T19:35:34.243Z"
   },
   {
    "duration": 310,
    "start_time": "2022-07-29T19:35:38.344Z"
   },
   {
    "duration": 18,
    "start_time": "2022-07-29T19:35:57.520Z"
   },
   {
    "duration": 19,
    "start_time": "2022-07-29T19:36:40.610Z"
   },
   {
    "duration": 20,
    "start_time": "2022-07-29T19:37:51.292Z"
   },
   {
    "duration": 27,
    "start_time": "2022-07-29T19:37:59.317Z"
   },
   {
    "duration": 171,
    "start_time": "2022-07-29T19:38:03.808Z"
   },
   {
    "duration": 194,
    "start_time": "2022-07-29T19:38:11.090Z"
   },
   {
    "duration": 91,
    "start_time": "2022-07-29T19:38:32.284Z"
   },
   {
    "duration": 195,
    "start_time": "2022-07-29T19:38:44.690Z"
   },
   {
    "duration": 240,
    "start_time": "2022-07-29T19:39:02.652Z"
   },
   {
    "duration": 208,
    "start_time": "2022-07-29T19:39:07.104Z"
   },
   {
    "duration": 23,
    "start_time": "2022-07-29T19:39:10.685Z"
   },
   {
    "duration": 18,
    "start_time": "2022-07-29T19:39:20.602Z"
   },
   {
    "duration": 17,
    "start_time": "2022-07-29T19:44:15.132Z"
   },
   {
    "duration": 85,
    "start_time": "2022-07-29T19:44:21.174Z"
   },
   {
    "duration": 21,
    "start_time": "2022-07-29T19:44:21.261Z"
   },
   {
    "duration": 36,
    "start_time": "2022-07-29T19:44:21.285Z"
   },
   {
    "duration": 10,
    "start_time": "2022-07-29T19:44:21.323Z"
   },
   {
    "duration": 48,
    "start_time": "2022-07-29T19:44:21.336Z"
   },
   {
    "duration": 4,
    "start_time": "2022-07-29T19:44:21.386Z"
   },
   {
    "duration": 18,
    "start_time": "2022-07-29T19:44:21.392Z"
   },
   {
    "duration": 6,
    "start_time": "2022-07-29T19:44:21.412Z"
   },
   {
    "duration": 8,
    "start_time": "2022-07-29T19:44:21.419Z"
   },
   {
    "duration": 7,
    "start_time": "2022-07-29T19:44:21.429Z"
   },
   {
    "duration": 66,
    "start_time": "2022-07-29T19:44:21.438Z"
   },
   {
    "duration": 9,
    "start_time": "2022-07-29T19:44:21.507Z"
   },
   {
    "duration": 8,
    "start_time": "2022-07-29T19:44:21.518Z"
   },
   {
    "duration": 20,
    "start_time": "2022-07-29T19:44:21.528Z"
   },
   {
    "duration": 24,
    "start_time": "2022-07-29T19:44:21.561Z"
   },
   {
    "duration": 14,
    "start_time": "2022-07-29T19:44:21.587Z"
   },
   {
    "duration": 7,
    "start_time": "2022-07-29T19:44:21.603Z"
   },
   {
    "duration": 15,
    "start_time": "2022-07-29T19:44:21.611Z"
   },
   {
    "duration": 10,
    "start_time": "2022-07-29T19:44:21.627Z"
   },
   {
    "duration": 24,
    "start_time": "2022-07-29T19:44:21.638Z"
   },
   {
    "duration": 15,
    "start_time": "2022-07-29T19:44:21.665Z"
   },
   {
    "duration": 10,
    "start_time": "2022-07-29T19:44:21.682Z"
   },
   {
    "duration": 9,
    "start_time": "2022-07-29T19:44:21.694Z"
   },
   {
    "duration": 20,
    "start_time": "2022-07-29T19:44:24.974Z"
   },
   {
    "duration": 349,
    "start_time": "2022-07-29T19:44:36.559Z"
   },
   {
    "duration": 380,
    "start_time": "2022-07-29T19:47:53.121Z"
   },
   {
    "duration": 348,
    "start_time": "2022-07-29T19:48:06.038Z"
   },
   {
    "duration": 294,
    "start_time": "2022-07-29T19:48:19.347Z"
   },
   {
    "duration": 309,
    "start_time": "2022-07-29T19:48:33.767Z"
   },
   {
    "duration": 313,
    "start_time": "2022-07-29T19:50:28.206Z"
   },
   {
    "duration": 1273,
    "start_time": "2022-07-29T19:51:29.183Z"
   },
   {
    "duration": 1416,
    "start_time": "2022-07-29T19:51:44.430Z"
   },
   {
    "duration": 2431,
    "start_time": "2022-07-29T19:52:01.127Z"
   },
   {
    "duration": 804,
    "start_time": "2022-07-29T19:52:19.004Z"
   },
   {
    "duration": 300,
    "start_time": "2022-07-29T19:52:52.037Z"
   },
   {
    "duration": 18,
    "start_time": "2022-07-29T19:59:43.927Z"
   },
   {
    "duration": 18,
    "start_time": "2022-07-29T19:59:50.340Z"
   },
   {
    "duration": 403,
    "start_time": "2022-07-29T20:00:26.069Z"
   },
   {
    "duration": 326,
    "start_time": "2022-07-29T20:00:35.023Z"
   },
   {
    "duration": 348,
    "start_time": "2022-07-29T20:00:55.910Z"
   },
   {
    "duration": 17,
    "start_time": "2022-07-29T20:01:21.640Z"
   },
   {
    "duration": 499,
    "start_time": "2022-07-29T20:12:57.852Z"
   },
   {
    "duration": 22,
    "start_time": "2022-07-29T20:12:59.450Z"
   },
   {
    "duration": 491,
    "start_time": "2022-07-29T20:13:06.437Z"
   },
   {
    "duration": 21,
    "start_time": "2022-07-29T20:13:24.940Z"
   },
   {
    "duration": 15,
    "start_time": "2022-07-29T20:13:28.819Z"
   },
   {
    "duration": 10,
    "start_time": "2022-07-29T20:13:32.136Z"
   },
   {
    "duration": 34,
    "start_time": "2022-07-29T20:14:08.993Z"
   },
   {
    "duration": 5,
    "start_time": "2022-07-29T20:14:17.161Z"
   },
   {
    "duration": 8,
    "start_time": "2022-07-29T20:14:18.934Z"
   },
   {
    "duration": 5,
    "start_time": "2022-07-29T20:14:23.161Z"
   },
   {
    "duration": 7,
    "start_time": "2022-07-29T20:14:32.138Z"
   },
   {
    "duration": 4,
    "start_time": "2022-07-29T20:14:34.170Z"
   },
   {
    "duration": 31,
    "start_time": "2022-07-29T20:14:37.220Z"
   },
   {
    "duration": 13,
    "start_time": "2022-07-29T20:14:43.200Z"
   },
   {
    "duration": 4,
    "start_time": "2022-07-29T20:14:46.534Z"
   },
   {
    "duration": 18,
    "start_time": "2022-07-29T20:14:49.234Z"
   },
   {
    "duration": 16,
    "start_time": "2022-07-29T20:14:49.934Z"
   },
   {
    "duration": 18,
    "start_time": "2022-07-29T20:14:53.839Z"
   },
   {
    "duration": 3,
    "start_time": "2022-07-29T20:14:56.548Z"
   },
   {
    "duration": 10,
    "start_time": "2022-07-29T20:14:59.570Z"
   },
   {
    "duration": 6,
    "start_time": "2022-07-29T20:15:01.658Z"
   },
   {
    "duration": 4,
    "start_time": "2022-07-29T20:15:04.697Z"
   },
   {
    "duration": 10,
    "start_time": "2022-07-29T20:15:05.746Z"
   },
   {
    "duration": 4,
    "start_time": "2022-07-29T20:15:10.810Z"
   },
   {
    "duration": 5,
    "start_time": "2022-07-29T20:15:13.508Z"
   },
   {
    "duration": 545,
    "start_time": "2022-07-29T20:15:16.890Z"
   },
   {
    "duration": 18,
    "start_time": "2022-07-29T20:15:26.104Z"
   },
   {
    "duration": 8,
    "start_time": "2022-07-29T20:15:29.734Z"
   },
   {
    "duration": 314,
    "start_time": "2022-07-29T20:15:33.998Z"
   },
   {
    "duration": 333,
    "start_time": "2022-07-29T20:21:49.040Z"
   },
   {
    "duration": 94,
    "start_time": "2022-07-29T20:22:08.811Z"
   },
   {
    "duration": 321,
    "start_time": "2022-07-29T20:22:37.372Z"
   },
   {
    "duration": 20,
    "start_time": "2022-07-29T21:03:14.633Z"
   },
   {
    "duration": 312,
    "start_time": "2022-07-29T21:03:31.605Z"
   },
   {
    "duration": 289,
    "start_time": "2022-07-29T21:03:51.743Z"
   },
   {
    "duration": 90,
    "start_time": "2022-07-29T21:26:34.029Z"
   },
   {
    "duration": 92,
    "start_time": "2022-07-29T21:27:33.352Z"
   },
   {
    "duration": 83,
    "start_time": "2022-07-29T21:29:15.714Z"
   },
   {
    "duration": 93,
    "start_time": "2022-07-29T21:29:24.209Z"
   },
   {
    "duration": 107,
    "start_time": "2022-07-29T21:29:51.447Z"
   },
   {
    "duration": 81,
    "start_time": "2022-07-29T21:37:53.205Z"
   },
   {
    "duration": 93,
    "start_time": "2022-07-29T21:37:58.119Z"
   },
   {
    "duration": 90,
    "start_time": "2022-07-29T21:38:29.323Z"
   },
   {
    "duration": 99,
    "start_time": "2022-07-29T21:39:30.978Z"
   },
   {
    "duration": 102,
    "start_time": "2022-07-29T21:50:08.441Z"
   },
   {
    "duration": 93,
    "start_time": "2022-07-29T21:50:39.794Z"
   },
   {
    "duration": 94,
    "start_time": "2022-07-29T21:51:39.562Z"
   },
   {
    "duration": 82,
    "start_time": "2022-07-29T21:54:17.767Z"
   },
   {
    "duration": 83,
    "start_time": "2022-07-29T22:05:52.351Z"
   },
   {
    "duration": 15,
    "start_time": "2022-07-29T22:05:52.438Z"
   },
   {
    "duration": 20,
    "start_time": "2022-07-29T22:05:52.455Z"
   },
   {
    "duration": 11,
    "start_time": "2022-07-29T22:05:52.477Z"
   },
   {
    "duration": 43,
    "start_time": "2022-07-29T22:05:52.490Z"
   },
   {
    "duration": 3,
    "start_time": "2022-07-29T22:05:52.535Z"
   },
   {
    "duration": 23,
    "start_time": "2022-07-29T22:05:52.540Z"
   },
   {
    "duration": 5,
    "start_time": "2022-07-29T22:05:52.564Z"
   },
   {
    "duration": 11,
    "start_time": "2022-07-29T22:05:52.571Z"
   },
   {
    "duration": 5,
    "start_time": "2022-07-29T22:05:52.584Z"
   },
   {
    "duration": 37,
    "start_time": "2022-07-29T22:05:52.591Z"
   },
   {
    "duration": 37,
    "start_time": "2022-07-29T22:05:52.630Z"
   },
   {
    "duration": 4,
    "start_time": "2022-07-29T22:05:52.669Z"
   },
   {
    "duration": 21,
    "start_time": "2022-07-29T22:05:52.677Z"
   },
   {
    "duration": 25,
    "start_time": "2022-07-29T22:05:52.699Z"
   },
   {
    "duration": 44,
    "start_time": "2022-07-29T22:05:52.726Z"
   },
   {
    "duration": 5,
    "start_time": "2022-07-29T22:05:52.772Z"
   },
   {
    "duration": 15,
    "start_time": "2022-07-29T22:05:52.779Z"
   },
   {
    "duration": 11,
    "start_time": "2022-07-29T22:05:52.795Z"
   },
   {
    "duration": 4,
    "start_time": "2022-07-29T22:05:52.808Z"
   },
   {
    "duration": 20,
    "start_time": "2022-07-29T22:05:52.814Z"
   },
   {
    "duration": 26,
    "start_time": "2022-07-29T22:05:52.836Z"
   },
   {
    "duration": 10,
    "start_time": "2022-07-29T22:05:52.864Z"
   },
   {
    "duration": 314,
    "start_time": "2022-07-29T22:05:52.876Z"
   },
   {
    "duration": 30,
    "start_time": "2022-07-29T22:05:53.193Z"
   },
   {
    "duration": 10,
    "start_time": "2022-07-29T22:05:53.225Z"
   },
   {
    "duration": 356,
    "start_time": "2022-07-29T22:05:53.237Z"
   },
   {
    "duration": 316,
    "start_time": "2022-07-29T22:05:53.594Z"
   },
   {
    "duration": 307,
    "start_time": "2022-07-29T22:05:53.911Z"
   },
   {
    "duration": 76,
    "start_time": "2022-07-29T22:05:54.220Z"
   },
   {
    "duration": 85,
    "start_time": "2022-07-29T22:14:17.814Z"
   },
   {
    "duration": 12,
    "start_time": "2022-07-29T22:14:26.992Z"
   },
   {
    "duration": 299,
    "start_time": "2022-07-29T22:15:04.224Z"
   },
   {
    "duration": 311,
    "start_time": "2022-07-29T22:15:35.114Z"
   },
   {
    "duration": 612,
    "start_time": "2022-07-29T22:26:28.473Z"
   },
   {
    "duration": 148,
    "start_time": "2022-07-29T22:26:41.201Z"
   },
   {
    "duration": 371,
    "start_time": "2022-07-29T22:27:11.043Z"
   },
   {
    "duration": 71,
    "start_time": "2022-07-29T22:27:21.495Z"
   },
   {
    "duration": 16,
    "start_time": "2022-07-29T22:27:21.568Z"
   },
   {
    "duration": 21,
    "start_time": "2022-07-29T22:27:21.585Z"
   },
   {
    "duration": 9,
    "start_time": "2022-07-29T22:27:21.608Z"
   },
   {
    "duration": 75,
    "start_time": "2022-07-29T22:27:21.620Z"
   },
   {
    "duration": 4,
    "start_time": "2022-07-29T22:27:21.698Z"
   },
   {
    "duration": 15,
    "start_time": "2022-07-29T22:27:21.704Z"
   },
   {
    "duration": 8,
    "start_time": "2022-07-29T22:27:21.721Z"
   },
   {
    "duration": 11,
    "start_time": "2022-07-29T22:27:21.731Z"
   },
   {
    "duration": 20,
    "start_time": "2022-07-29T22:27:21.744Z"
   },
   {
    "duration": 53,
    "start_time": "2022-07-29T22:27:21.767Z"
   },
   {
    "duration": 12,
    "start_time": "2022-07-29T22:27:21.822Z"
   },
   {
    "duration": 27,
    "start_time": "2022-07-29T22:27:21.836Z"
   },
   {
    "duration": 33,
    "start_time": "2022-07-29T22:27:21.866Z"
   },
   {
    "duration": 18,
    "start_time": "2022-07-29T22:27:21.901Z"
   },
   {
    "duration": 10,
    "start_time": "2022-07-29T22:27:21.921Z"
   },
   {
    "duration": 6,
    "start_time": "2022-07-29T22:27:21.933Z"
   },
   {
    "duration": 24,
    "start_time": "2022-07-29T22:27:21.940Z"
   },
   {
    "duration": 14,
    "start_time": "2022-07-29T22:27:21.966Z"
   },
   {
    "duration": 5,
    "start_time": "2022-07-29T22:27:21.982Z"
   },
   {
    "duration": 11,
    "start_time": "2022-07-29T22:27:21.989Z"
   },
   {
    "duration": 8,
    "start_time": "2022-07-29T22:27:22.001Z"
   },
   {
    "duration": 10,
    "start_time": "2022-07-29T22:27:22.011Z"
   },
   {
    "duration": 273,
    "start_time": "2022-07-29T22:27:25.592Z"
   },
   {
    "duration": 12,
    "start_time": "2022-07-29T22:28:47.854Z"
   },
   {
    "duration": 225,
    "start_time": "2022-07-29T22:29:02.434Z"
   },
   {
    "duration": 829,
    "start_time": "2022-07-29T22:29:31.672Z"
   },
   {
    "duration": 979,
    "start_time": "2022-07-29T22:29:46.069Z"
   },
   {
    "duration": 508,
    "start_time": "2022-07-29T22:30:01.961Z"
   },
   {
    "duration": 32,
    "start_time": "2022-07-29T22:30:02.472Z"
   },
   {
    "duration": 15,
    "start_time": "2022-07-29T22:30:02.506Z"
   },
   {
    "duration": 11,
    "start_time": "2022-07-29T22:30:02.523Z"
   },
   {
    "duration": 73,
    "start_time": "2022-07-29T22:30:02.536Z"
   },
   {
    "duration": 3,
    "start_time": "2022-07-29T22:30:02.611Z"
   },
   {
    "duration": 29,
    "start_time": "2022-07-29T22:30:02.615Z"
   },
   {
    "duration": 10,
    "start_time": "2022-07-29T22:30:02.646Z"
   },
   {
    "duration": 36,
    "start_time": "2022-07-29T22:30:02.658Z"
   },
   {
    "duration": 10,
    "start_time": "2022-07-29T22:30:02.696Z"
   },
   {
    "duration": 41,
    "start_time": "2022-07-29T22:30:02.708Z"
   },
   {
    "duration": 10,
    "start_time": "2022-07-29T22:30:02.750Z"
   },
   {
    "duration": 22,
    "start_time": "2022-07-29T22:30:02.764Z"
   },
   {
    "duration": 23,
    "start_time": "2022-07-29T22:30:02.790Z"
   },
   {
    "duration": 16,
    "start_time": "2022-07-29T22:30:02.815Z"
   },
   {
    "duration": 12,
    "start_time": "2022-07-29T22:30:02.833Z"
   },
   {
    "duration": 12,
    "start_time": "2022-07-29T22:30:02.846Z"
   },
   {
    "duration": 30,
    "start_time": "2022-07-29T22:30:02.860Z"
   },
   {
    "duration": 13,
    "start_time": "2022-07-29T22:30:02.891Z"
   },
   {
    "duration": 4,
    "start_time": "2022-07-29T22:30:02.906Z"
   },
   {
    "duration": 12,
    "start_time": "2022-07-29T22:30:02.912Z"
   },
   {
    "duration": 4,
    "start_time": "2022-07-29T22:30:02.926Z"
   },
   {
    "duration": 14,
    "start_time": "2022-07-29T22:30:02.932Z"
   },
   {
    "duration": 574,
    "start_time": "2022-07-29T22:30:02.948Z"
   },
   {
    "duration": 19,
    "start_time": "2022-07-29T22:30:03.523Z"
   },
   {
    "duration": 26,
    "start_time": "2022-07-29T22:30:03.544Z"
   },
   {
    "duration": 342,
    "start_time": "2022-07-29T22:30:03.575Z"
   },
   {
    "duration": 302,
    "start_time": "2022-07-29T22:30:03.919Z"
   },
   {
    "duration": 370,
    "start_time": "2022-07-29T22:30:04.223Z"
   },
   {
    "duration": 83,
    "start_time": "2022-07-29T22:30:04.595Z"
   },
   {
    "duration": 436,
    "start_time": "2022-07-29T22:47:39.998Z"
   },
   {
    "duration": 20,
    "start_time": "2022-07-29T22:47:40.436Z"
   },
   {
    "duration": 16,
    "start_time": "2022-07-29T22:47:40.457Z"
   },
   {
    "duration": 8,
    "start_time": "2022-07-29T22:47:40.475Z"
   },
   {
    "duration": 32,
    "start_time": "2022-07-29T22:47:40.485Z"
   },
   {
    "duration": 3,
    "start_time": "2022-07-29T22:47:40.518Z"
   },
   {
    "duration": 10,
    "start_time": "2022-07-29T22:47:40.523Z"
   },
   {
    "duration": 4,
    "start_time": "2022-07-29T22:47:40.535Z"
   },
   {
    "duration": 23,
    "start_time": "2022-07-29T22:47:40.540Z"
   },
   {
    "duration": 4,
    "start_time": "2022-07-29T22:47:40.565Z"
   },
   {
    "duration": 32,
    "start_time": "2022-07-29T22:47:40.571Z"
   },
   {
    "duration": 9,
    "start_time": "2022-07-29T22:47:40.605Z"
   },
   {
    "duration": 3,
    "start_time": "2022-07-29T22:47:40.615Z"
   },
   {
    "duration": 42,
    "start_time": "2022-07-29T22:47:40.621Z"
   },
   {
    "duration": 15,
    "start_time": "2022-07-29T22:47:40.665Z"
   },
   {
    "duration": 14,
    "start_time": "2022-07-29T22:47:40.682Z"
   },
   {
    "duration": 6,
    "start_time": "2022-07-29T22:47:40.697Z"
   },
   {
    "duration": 13,
    "start_time": "2022-07-29T22:47:40.705Z"
   },
   {
    "duration": 10,
    "start_time": "2022-07-29T22:47:40.719Z"
   },
   {
    "duration": 3,
    "start_time": "2022-07-29T22:47:40.731Z"
   },
   {
    "duration": 29,
    "start_time": "2022-07-29T22:47:40.735Z"
   },
   {
    "duration": 4,
    "start_time": "2022-07-29T22:47:40.766Z"
   },
   {
    "duration": 7,
    "start_time": "2022-07-29T22:47:40.772Z"
   },
   {
    "duration": 476,
    "start_time": "2022-07-29T22:47:40.780Z"
   },
   {
    "duration": 18,
    "start_time": "2022-07-29T22:47:41.260Z"
   },
   {
    "duration": 6,
    "start_time": "2022-07-29T22:47:41.280Z"
   },
   {
    "duration": 316,
    "start_time": "2022-07-29T22:47:41.288Z"
   },
   {
    "duration": 267,
    "start_time": "2022-07-29T22:47:41.605Z"
   },
   {
    "duration": 321,
    "start_time": "2022-07-29T22:47:41.873Z"
   },
   {
    "duration": 76,
    "start_time": "2022-07-29T22:47:42.195Z"
   },
   {
    "duration": 89,
    "start_time": "2022-07-30T07:36:53.766Z"
   },
   {
    "duration": 585,
    "start_time": "2022-07-30T14:28:45.033Z"
   },
   {
    "duration": 23,
    "start_time": "2022-07-30T14:28:45.620Z"
   },
   {
    "duration": 16,
    "start_time": "2022-07-30T14:28:45.644Z"
   },
   {
    "duration": 16,
    "start_time": "2022-07-30T14:28:45.662Z"
   },
   {
    "duration": 54,
    "start_time": "2022-07-30T14:28:45.680Z"
   },
   {
    "duration": 4,
    "start_time": "2022-07-30T14:28:45.735Z"
   },
   {
    "duration": 13,
    "start_time": "2022-07-30T14:28:45.740Z"
   },
   {
    "duration": 10,
    "start_time": "2022-07-30T14:28:45.755Z"
   },
   {
    "duration": 15,
    "start_time": "2022-07-30T14:28:45.767Z"
   },
   {
    "duration": 26,
    "start_time": "2022-07-30T14:28:45.784Z"
   },
   {
    "duration": 36,
    "start_time": "2022-07-30T14:28:45.812Z"
   },
   {
    "duration": 11,
    "start_time": "2022-07-30T14:28:45.849Z"
   },
   {
    "duration": 6,
    "start_time": "2022-07-30T14:28:45.862Z"
   },
   {
    "duration": 46,
    "start_time": "2022-07-30T14:28:45.871Z"
   },
   {
    "duration": 20,
    "start_time": "2022-07-30T14:28:45.919Z"
   },
   {
    "duration": 12,
    "start_time": "2022-07-30T14:28:45.941Z"
   },
   {
    "duration": 4,
    "start_time": "2022-07-30T14:28:45.955Z"
   },
   {
    "duration": 17,
    "start_time": "2022-07-30T14:28:45.961Z"
   },
   {
    "duration": 30,
    "start_time": "2022-07-30T14:28:45.980Z"
   },
   {
    "duration": 3,
    "start_time": "2022-07-30T14:28:46.012Z"
   },
   {
    "duration": 30,
    "start_time": "2022-07-30T14:28:46.018Z"
   },
   {
    "duration": 8,
    "start_time": "2022-07-30T14:28:46.051Z"
   },
   {
    "duration": 6,
    "start_time": "2022-07-30T14:28:46.061Z"
   },
   {
    "duration": 790,
    "start_time": "2022-07-30T14:28:46.068Z"
   },
   {
    "duration": 21,
    "start_time": "2022-07-30T14:28:46.860Z"
   },
   {
    "duration": 8,
    "start_time": "2022-07-30T14:28:46.883Z"
   },
   {
    "duration": 386,
    "start_time": "2022-07-30T14:28:46.910Z"
   },
   {
    "duration": 397,
    "start_time": "2022-07-30T14:28:47.298Z"
   },
   {
    "duration": 363,
    "start_time": "2022-07-30T14:28:47.698Z"
   },
   {
    "duration": 83,
    "start_time": "2022-07-30T14:28:48.063Z"
   },
   {
    "duration": 174,
    "start_time": "2022-07-30T14:31:50.327Z"
   },
   {
    "duration": 508,
    "start_time": "2022-07-30T14:32:25.252Z"
   },
   {
    "duration": 25,
    "start_time": "2022-07-30T14:32:25.762Z"
   },
   {
    "duration": 26,
    "start_time": "2022-07-30T14:32:25.789Z"
   },
   {
    "duration": 11,
    "start_time": "2022-07-30T14:32:25.817Z"
   },
   {
    "duration": 41,
    "start_time": "2022-07-30T14:32:25.830Z"
   },
   {
    "duration": 4,
    "start_time": "2022-07-30T14:32:25.873Z"
   },
   {
    "duration": 32,
    "start_time": "2022-07-30T14:32:25.879Z"
   },
   {
    "duration": 5,
    "start_time": "2022-07-30T14:32:25.913Z"
   },
   {
    "duration": 9,
    "start_time": "2022-07-30T14:32:25.919Z"
   },
   {
    "duration": 6,
    "start_time": "2022-07-30T14:32:25.930Z"
   },
   {
    "duration": 42,
    "start_time": "2022-07-30T14:32:25.937Z"
   },
   {
    "duration": 30,
    "start_time": "2022-07-30T14:32:25.981Z"
   },
   {
    "duration": 4,
    "start_time": "2022-07-30T14:32:26.013Z"
   },
   {
    "duration": 24,
    "start_time": "2022-07-30T14:32:26.018Z"
   },
   {
    "duration": 18,
    "start_time": "2022-07-30T14:32:26.044Z"
   },
   {
    "duration": 12,
    "start_time": "2022-07-30T14:32:26.063Z"
   },
   {
    "duration": 35,
    "start_time": "2022-07-30T14:32:26.077Z"
   },
   {
    "duration": 14,
    "start_time": "2022-07-30T14:32:26.113Z"
   },
   {
    "duration": 8,
    "start_time": "2022-07-30T14:32:26.128Z"
   },
   {
    "duration": 6,
    "start_time": "2022-07-30T14:32:26.138Z"
   },
   {
    "duration": 13,
    "start_time": "2022-07-30T14:32:26.145Z"
   },
   {
    "duration": 7,
    "start_time": "2022-07-30T14:32:26.160Z"
   },
   {
    "duration": 7,
    "start_time": "2022-07-30T14:32:26.169Z"
   },
   {
    "duration": 447,
    "start_time": "2022-07-30T14:32:32.201Z"
   },
   {
    "duration": 540,
    "start_time": "2022-07-30T14:33:17.578Z"
   },
   {
    "duration": 25,
    "start_time": "2022-07-30T14:33:18.120Z"
   },
   {
    "duration": 18,
    "start_time": "2022-07-30T14:33:18.146Z"
   },
   {
    "duration": 11,
    "start_time": "2022-07-30T14:33:18.166Z"
   },
   {
    "duration": 62,
    "start_time": "2022-07-30T14:33:18.178Z"
   },
   {
    "duration": 4,
    "start_time": "2022-07-30T14:33:18.244Z"
   },
   {
    "duration": 15,
    "start_time": "2022-07-30T14:33:18.249Z"
   },
   {
    "duration": 5,
    "start_time": "2022-07-30T14:33:18.266Z"
   },
   {
    "duration": 18,
    "start_time": "2022-07-30T14:33:18.273Z"
   },
   {
    "duration": 7,
    "start_time": "2022-07-30T14:33:18.294Z"
   },
   {
    "duration": 37,
    "start_time": "2022-07-30T14:33:18.311Z"
   },
   {
    "duration": 10,
    "start_time": "2022-07-30T14:33:18.350Z"
   },
   {
    "duration": 10,
    "start_time": "2022-07-30T14:33:18.362Z"
   },
   {
    "duration": 38,
    "start_time": "2022-07-30T14:33:18.374Z"
   },
   {
    "duration": 19,
    "start_time": "2022-07-30T14:33:18.414Z"
   },
   {
    "duration": 12,
    "start_time": "2022-07-30T14:33:18.435Z"
   },
   {
    "duration": 10,
    "start_time": "2022-07-30T14:33:18.449Z"
   },
   {
    "duration": 21,
    "start_time": "2022-07-30T14:33:18.461Z"
   },
   {
    "duration": 12,
    "start_time": "2022-07-30T14:33:18.484Z"
   },
   {
    "duration": 12,
    "start_time": "2022-07-30T14:33:18.498Z"
   },
   {
    "duration": 22,
    "start_time": "2022-07-30T14:33:18.512Z"
   },
   {
    "duration": 15,
    "start_time": "2022-07-30T14:33:18.536Z"
   },
   {
    "duration": 15,
    "start_time": "2022-07-30T14:33:18.553Z"
   },
   {
    "duration": 417,
    "start_time": "2022-07-30T14:33:18.569Z"
   },
   {
    "duration": 104,
    "start_time": "2022-07-30T14:33:18.988Z"
   },
   {
    "duration": 0,
    "start_time": "2022-07-30T14:33:19.094Z"
   },
   {
    "duration": 0,
    "start_time": "2022-07-30T14:33:19.095Z"
   },
   {
    "duration": 0,
    "start_time": "2022-07-30T14:33:19.111Z"
   },
   {
    "duration": 0,
    "start_time": "2022-07-30T14:33:19.112Z"
   },
   {
    "duration": 0,
    "start_time": "2022-07-30T14:33:19.113Z"
   },
   {
    "duration": 509,
    "start_time": "2022-07-30T14:34:30.112Z"
   },
   {
    "duration": 30,
    "start_time": "2022-07-30T14:34:32.031Z"
   },
   {
    "duration": 16,
    "start_time": "2022-07-30T14:34:34.799Z"
   },
   {
    "duration": 11,
    "start_time": "2022-07-30T14:34:40.757Z"
   },
   {
    "duration": 37,
    "start_time": "2022-07-30T14:34:42.323Z"
   },
   {
    "duration": 3,
    "start_time": "2022-07-30T14:34:45.627Z"
   },
   {
    "duration": 9,
    "start_time": "2022-07-30T14:34:47.674Z"
   },
   {
    "duration": 5,
    "start_time": "2022-07-30T14:35:36.968Z"
   },
   {
    "duration": 8,
    "start_time": "2022-07-30T14:35:41.913Z"
   },
   {
    "duration": 4,
    "start_time": "2022-07-30T14:35:43.069Z"
   },
   {
    "duration": 43,
    "start_time": "2022-07-30T14:35:44.750Z"
   },
   {
    "duration": 11,
    "start_time": "2022-07-30T14:36:01.348Z"
   },
   {
    "duration": 4,
    "start_time": "2022-07-30T14:36:06.129Z"
   },
   {
    "duration": 20,
    "start_time": "2022-07-30T14:36:08.431Z"
   },
   {
    "duration": 19,
    "start_time": "2022-07-30T14:36:09.328Z"
   },
   {
    "duration": 18,
    "start_time": "2022-07-30T14:36:11.848Z"
   },
   {
    "duration": 4,
    "start_time": "2022-07-30T14:36:15.118Z"
   },
   {
    "duration": 12,
    "start_time": "2022-07-30T14:36:15.886Z"
   },
   {
    "duration": 6,
    "start_time": "2022-07-30T14:36:17.338Z"
   },
   {
    "duration": 4,
    "start_time": "2022-07-30T14:36:19.561Z"
   },
   {
    "duration": 10,
    "start_time": "2022-07-30T14:36:23.599Z"
   },
   {
    "duration": 5,
    "start_time": "2022-07-30T14:36:26.347Z"
   },
   {
    "duration": 6,
    "start_time": "2022-07-30T14:36:27.612Z"
   },
   {
    "duration": 444,
    "start_time": "2022-07-30T14:36:39.507Z"
   },
   {
    "duration": 1390,
    "start_time": "2022-07-30T14:39:12.151Z"
   },
   {
    "duration": 202,
    "start_time": "2022-07-30T14:39:24.115Z"
   },
   {
    "duration": 1143,
    "start_time": "2022-07-30T14:39:46.871Z"
   },
   {
    "duration": 147,
    "start_time": "2022-07-30T14:39:54.159Z"
   },
   {
    "duration": 12,
    "start_time": "2022-07-30T14:40:06.424Z"
   },
   {
    "duration": 13,
    "start_time": "2022-07-30T14:40:20.215Z"
   },
   {
    "duration": 146,
    "start_time": "2022-07-30T14:40:26.786Z"
   },
   {
    "duration": 146,
    "start_time": "2022-07-30T14:41:04.089Z"
   },
   {
    "duration": 142,
    "start_time": "2022-07-30T14:41:08.518Z"
   },
   {
    "duration": 9,
    "start_time": "2022-07-30T14:46:07.118Z"
   },
   {
    "duration": 170,
    "start_time": "2022-07-30T14:46:33.101Z"
   },
   {
    "duration": 135,
    "start_time": "2022-07-30T14:48:10.546Z"
   },
   {
    "duration": 165,
    "start_time": "2022-07-30T14:48:54.903Z"
   },
   {
    "duration": 77,
    "start_time": "2022-07-30T14:49:13.970Z"
   },
   {
    "duration": 525,
    "start_time": "2022-07-30T14:51:17.822Z"
   },
   {
    "duration": 25,
    "start_time": "2022-07-30T14:51:18.349Z"
   },
   {
    "duration": 19,
    "start_time": "2022-07-30T14:51:18.375Z"
   },
   {
    "duration": 11,
    "start_time": "2022-07-30T14:51:18.410Z"
   },
   {
    "duration": 37,
    "start_time": "2022-07-30T14:51:18.423Z"
   },
   {
    "duration": 4,
    "start_time": "2022-07-30T14:51:18.462Z"
   },
   {
    "duration": 11,
    "start_time": "2022-07-30T14:51:18.467Z"
   },
   {
    "duration": 34,
    "start_time": "2022-07-30T14:51:18.479Z"
   },
   {
    "duration": 8,
    "start_time": "2022-07-30T14:51:18.514Z"
   },
   {
    "duration": 6,
    "start_time": "2022-07-30T14:51:18.524Z"
   },
   {
    "duration": 39,
    "start_time": "2022-07-30T14:51:18.532Z"
   },
   {
    "duration": 10,
    "start_time": "2022-07-30T14:51:18.573Z"
   },
   {
    "duration": 28,
    "start_time": "2022-07-30T14:51:18.585Z"
   },
   {
    "duration": 20,
    "start_time": "2022-07-30T14:51:18.615Z"
   },
   {
    "duration": 17,
    "start_time": "2022-07-30T14:51:18.637Z"
   },
   {
    "duration": 12,
    "start_time": "2022-07-30T14:51:18.656Z"
   },
   {
    "duration": 5,
    "start_time": "2022-07-30T14:51:18.670Z"
   },
   {
    "duration": 39,
    "start_time": "2022-07-30T14:51:18.677Z"
   },
   {
    "duration": 13,
    "start_time": "2022-07-30T14:51:18.718Z"
   },
   {
    "duration": 6,
    "start_time": "2022-07-30T14:51:18.733Z"
   },
   {
    "duration": 11,
    "start_time": "2022-07-30T14:51:18.740Z"
   },
   {
    "duration": 7,
    "start_time": "2022-07-30T14:51:18.753Z"
   },
   {
    "duration": 7,
    "start_time": "2022-07-30T14:51:18.762Z"
   },
   {
    "duration": 426,
    "start_time": "2022-07-30T14:51:18.771Z"
   },
   {
    "duration": 16,
    "start_time": "2022-07-30T14:51:19.199Z"
   },
   {
    "duration": 179,
    "start_time": "2022-07-30T14:51:19.217Z"
   },
   {
    "duration": 146,
    "start_time": "2022-07-30T14:51:19.398Z"
   },
   {
    "duration": 214,
    "start_time": "2022-07-30T14:51:19.546Z"
   },
   {
    "duration": 77,
    "start_time": "2022-07-30T14:51:19.762Z"
   }
  ],
  "celltoolbar": "Edit Metadata",
  "colab": {
   "name": "dpp_template_part2.ipynb",
   "provenance": []
  },
  "kernelspec": {
   "display_name": "Python 3.10.7 64-bit",
   "language": "python",
   "name": "python3"
  },
  "language_info": {
   "codemirror_mode": {
    "name": "ipython",
    "version": 3
   },
   "file_extension": ".py",
   "mimetype": "text/x-python",
   "name": "python",
   "nbconvert_exporter": "python",
   "pygments_lexer": "ipython3",
   "version": "3.10.7"
  },
  "toc": {
   "base_numbering": 1,
   "nav_menu": {
    "height": "225px",
    "width": "355px"
   },
   "number_sections": true,
   "sideBar": true,
   "skip_h1_title": true,
   "title_cell": "Table of Contents",
   "title_sidebar": "Contents",
   "toc_cell": false,
   "toc_position": {},
   "toc_section_display": true,
   "toc_window_display": true
  },
  "vscode": {
   "interpreter": {
    "hash": "aee8b7b246df8f9039afb4144a1f6fd8d2ca17a180786b69acc140d282b71a49"
   }
  }
 },
 "nbformat": 4,
 "nbformat_minor": 5
}
